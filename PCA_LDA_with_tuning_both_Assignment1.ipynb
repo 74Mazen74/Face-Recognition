{
  "cells": [
    {
      "cell_type": "markdown",
      "source": [
        "## Useful imports"
      ],
      "metadata": {
        "id": "4c2ESCt9xUST"
      }
    },
    {
      "cell_type": "code",
      "execution_count": 1,
      "metadata": {
        "id": "QIL4UaIrBjLU"
      },
      "outputs": [],
      "source": [
        "import numpy as np\n",
        "import pandas as pd\n",
        "import os\n",
        "import glob\n",
        "import seaborn as sns\n",
        "from sklearn.neighbors import KNeighborsClassifier\n",
        "from sklearn.metrics import classification_report, accuracy_score, confusion_matrix\n",
        "import cv2\n",
        "from sklearn.model_selection import train_test_split"
      ]
    },
    {
      "cell_type": "markdown",
      "source": [
        "## Mounting drive to read data"
      ],
      "metadata": {
        "id": "Fa-b7DCoxWla"
      }
    },
    {
      "cell_type": "code",
      "execution_count": 2,
      "metadata": {
        "colab": {
          "base_uri": "https://localhost:8080/"
        },
        "id": "SPJ4KcEGmvlD",
        "outputId": "0b321cd1-1275-4831-b48a-393d1082923c"
      },
      "outputs": [
        {
          "output_type": "stream",
          "name": "stdout",
          "text": [
            "Mounted at /content/drive/\n"
          ]
        }
      ],
      "source": [
        "from google.colab import drive\n",
        "drive.mount('/content/drive/')"
      ]
    },
    {
      "cell_type": "markdown",
      "source": [
        "## Unzipping data"
      ],
      "metadata": {
        "id": "s6xk2z2xxZo2"
      }
    },
    {
      "cell_type": "code",
      "execution_count": 3,
      "metadata": {
        "id": "3Pp7CUtbDa0u"
      },
      "outputs": [],
      "source": [
        "from IPython.display import clear_output\n",
        "# Modify the first path to be the path of the data in your drive\n",
        "!unzip /content/drive/MyDrive/PatternRecognition/Assignment1Data/archive.zip -d /content/sample_data/archive\n",
        "clear_output(wait=False)"
      ]
    },
    {
      "cell_type": "markdown",
      "metadata": {
        "id": "dl9lIbZ_EyDX"
      },
      "source": [
        "## Read images"
      ]
    },
    {
      "cell_type": "markdown",
      "source": [
        "### Showing an example from the data to make sure everything is OK"
      ],
      "metadata": {
        "id": "USVNPSxWxdlM"
      }
    },
    {
      "cell_type": "code",
      "execution_count": 2,
      "metadata": {
        "colab": {
          "base_uri": "https://localhost:8080/",
          "height": 146
        },
        "id": "wXvp_ftvMNPs",
        "outputId": "250bfe75-ed91-4f5b-f1e8-5175a1fd4f34"
      },
      "outputs": [
        {
          "output_type": "stream",
          "name": "stdout",
          "text": [
            "[48. 49. 45. ... 47. 46. 46.]\n"
          ]
        },
        {
          "output_type": "display_data",
          "data": {
            "text/plain": [
              "<PIL.Image.Image image mode=L size=92x112 at 0x7F81636C8100>"
            ],
            "image/png": "[encoded data removed]"
          },
          "metadata": {}
        }
      ],
      "source": [
        "from google.colab.patches import cv2_imshow\n",
        "import cv2\n",
        "img = cv2.imread('/content/sample_data/archive/s1/1.pgm', cv2.IMREAD_UNCHANGED)\n",
        "print(np.array(img, dtype='float64').flatten())\n",
        "cv2_imshow(img)"
      ]
    },
    {
      "cell_type": "code",
      "execution_count": 6,
      "metadata": {
        "id": "97fbzYKaNQ-U",
        "cellView": "form"
      },
      "outputs": [],
      "source": [
        "#@title \n",
        "path = '/content/sample_data/archive/s*'\n",
        "dirs = glob.glob(path)\n",
        "images = np.ones((1, 10304))\n",
        "labels=np.array([])\n",
        "for i, dir in enumerate(dirs, 1):\n",
        "    for f in glob.glob(dir+\"/*\"):\n",
        "        img = cv2.imread(f, 0)\n",
        "        img = np.reshape(img, (1, 10304))\n",
        "        images = np.append(images, img, axis=0)\n",
        "        labels = np.append(labels, i)\n",
        "labels=np.array(labels)\n",
        "images=images[1:,]"
      ]
    },
    {
      "cell_type": "code",
      "execution_count": null,
      "metadata": {
        "id": "wt5ObpUsaZ5R",
        "cellView": "form"
      },
      "outputs": [],
      "source": [
        "#@title\n",
        "X_train=images[1::2] \n",
        "X_test=images[0::2]\n",
        "y_train=labels[1::2] \n",
        "y_test=labels[0::2]"
      ]
    },
    {
      "cell_type": "code",
      "execution_count": null,
      "metadata": {
        "id": "jbt3p9fN5tsn",
        "cellView": "form"
      },
      "outputs": [],
      "source": [
        "#@title\n",
        "X_train.shape"
      ]
    },
    {
      "cell_type": "markdown",
      "source": [
        "### Reading the image from the folders and adding the data in the images matrix with labeling in labels vector"
      ],
      "metadata": {
        "id": "O644U9Ryxpha"
      }
    },
    {
      "cell_type": "code",
      "execution_count": 3,
      "metadata": {
        "id": "bHpDSW2q1PQJ"
      },
      "outputs": [],
      "source": [
        "images = np.ones((1, 10304))\n",
        "labels=np.array([])\n",
        "for i in range(1,41):\n",
        "  photos=[i for i in range(1, 10+1)]\n",
        "  for photo in photos:\n",
        "    img = cv2.imread('/content/sample_data/archive/s'+str(i)+\"/\"+str(photo)+\".pgm\",0) # zero for gray scale\n",
        "    img = np.reshape(img, (1, 10304))\n",
        "    images = np.append(images, img, axis=0)\n",
        "    labels = np.append(labels, i)\n",
        "labels=np.array(labels)\n",
        "images=images[1:,]"
      ]
    },
    {
      "cell_type": "markdown",
      "source": [
        "### Checking for images correctness\n",
        "\n"
      ],
      "metadata": {
        "id": "Svj7EhCexyeT"
      }
    },
    {
      "cell_type": "code",
      "source": [
        "images"
      ],
      "metadata": {
        "colab": {
          "base_uri": "https://localhost:8080/"
        },
        "id": "Nkcx79n-BEkE",
        "outputId": "f75971f3-2eab-4869-a27a-3ce49accebb5"
      },
      "execution_count": 4,
      "outputs": [
        {
          "output_type": "execute_result",
          "data": {
            "text/plain": [
              "array([[ 48.,  49.,  45., ...,  47.,  46.,  46.],\n",
              "       [ 60.,  60.,  62., ...,  32.,  34.,  34.],\n",
              "       [ 39.,  44.,  53., ...,  29.,  26.,  29.],\n",
              "       ...,\n",
              "       [125., 119., 124., ...,  36.,  39.,  40.],\n",
              "       [119., 120., 120., ...,  89.,  94.,  85.],\n",
              "       [125., 124., 124., ...,  36.,  35.,  34.]])"
            ]
          },
          "metadata": {},
          "execution_count": 4
        }
      ]
    },
    {
      "cell_type": "code",
      "execution_count": null,
      "metadata": {
        "id": "OmIJuJKoLqUy",
        "cellView": "form"
      },
      "outputs": [],
      "source": [
        "#@title\n",
        "df=pd.DataFrame(data=images)\n",
        "df['target']=labels\n",
        "df.head()"
      ]
    },
    {
      "cell_type": "code",
      "execution_count": null,
      "metadata": {
        "id": "4lCoerMXMmqc",
        "cellView": "form"
      },
      "outputs": [],
      "source": [
        "#@title\n",
        "sns.countplot(x='target', data=df)\n",
        "sns.set(rc={'figure.figsize':(40,10)})"
      ]
    },
    {
      "cell_type": "markdown",
      "metadata": {
        "id": "XzkBP0yWB52m"
      },
      "source": [
        "##Train Test Split"
      ]
    },
    {
      "cell_type": "code",
      "source": [
        "X_train=images[1::2] # Odd\n",
        "X_test=images[0::2]  # Even\n",
        "y_train=labels[1::2] # Odd\n",
        "y_test=labels[0::2]  # Even"
      ],
      "metadata": {
        "id": "zkBlhO4BBdyV"
      },
      "execution_count": 5,
      "outputs": []
    },
    {
      "cell_type": "code",
      "execution_count": null,
      "metadata": {
        "id": "GX2FyTtkOaft",
        "cellView": "form"
      },
      "outputs": [],
      "source": [
        "#@title\n",
        "df_test = df[(df.index) % 2 == 0]\n",
        "df_train = df[(df.index) % 2 != 0]"
      ]
    },
    {
      "cell_type": "code",
      "execution_count": null,
      "metadata": {
        "id": "-bxT8gs52LaH",
        "cellView": "form"
      },
      "outputs": [],
      "source": [
        "#@title\n",
        "df_train"
      ]
    },
    {
      "cell_type": "markdown",
      "source": [
        "### Checking dimensions"
      ],
      "metadata": {
        "id": "c9LEkVzcx9gy"
      }
    },
    {
      "cell_type": "code",
      "source": [
        "print(X_train.shape)\n",
        "print(X_test.shape)"
      ],
      "metadata": {
        "colab": {
          "base_uri": "https://localhost:8080/"
        },
        "id": "dmSyErHYMxRP",
        "outputId": "ea3fbb08-28d6-46d3-ab35-152bc217aa05"
      },
      "execution_count": 6,
      "outputs": [
        {
          "output_type": "stream",
          "name": "stdout",
          "text": [
            "(200, 10304)\n",
            "(200, 10304)\n"
          ]
        }
      ]
    },
    {
      "cell_type": "markdown",
      "metadata": {
        "id": "lE2dn7_Tu7RQ"
      },
      "source": [
        "## PCA"
      ]
    },
    {
      "cell_type": "code",
      "execution_count": null,
      "metadata": {
        "id": "G-Dt0u_hB5TK"
      },
      "outputs": [],
      "source": [
        "#Calculating mean\n",
        "def calculate_mean(data):\n",
        "    return np.mean(data,axis=0,keepdims=True)\n",
        "\n",
        "#Centralize data\n",
        "def centeralize(data):\n",
        "    return data - calculate_mean(data)\n",
        "\n",
        "#Covariance Matrix\n",
        "def calculate_covariance_matrix(data):\n",
        "    z = centeralize(data)\n",
        "    return (np.matmul(np.transpose(z), z)) / len(data)\n",
        "\n",
        "#Calculating Eigen values & Eigen vectors\n",
        "def calculate_eigen_vectors(data):\n",
        "    cov = calculate_covariance_matrix(data)\n",
        "    eig_values, eig_vectors = np.linalg.eigh(cov)  \n",
        "    #Sorting eigenvalues and eigenvectors respectivily\n",
        "    idx = eig_values.argsort()[::-1]   \n",
        "    eig_values = eig_values[idx]\n",
        "    eig_vectors = eig_vectors[:,idx]\n",
        "    return eig_values, eig_vectors\n",
        "\n",
        "#Choosing dimensionality\n",
        "def dimensionality(alpha, eig_values):\n",
        "    sum = np.sum(eig_values)\n",
        "    r = 0\n",
        "    i = 0\n",
        "    for value in eig_values: \n",
        "        r = r + eig_values[i]\n",
        "        i = i + 1\n",
        "        if (r / float(sum) >= alpha):\n",
        "            break\n",
        "    return i\n",
        "\n",
        "def reduce_matrix(r, matrix):\n",
        "  U = matrix[:,:r]\n",
        "  return U\n",
        "\n",
        "def PCA(alpha,X_train,X_test):\n",
        "    eig_values, eig_vectors = calculate_eigen_vectors(X_train)\n",
        "    print(\"Eigenvectors shape = \"+str(eig_vectors.shape))\n",
        "    r = dimensionality(alpha, eig_values)\n",
        "    print(\"r = \", r)\n",
        "    U = reduce_matrix(r, eig_vectors)\n",
        "    print(\"U shape = \"+str(U.shape))\n",
        "    projected_training = np.dot(X_train, U)\n",
        "    projected_testing = np.dot(X_test, U)\n",
        "    print(\"projected_training shape = \"+str(projected_training.shape))\n",
        "    print(\"projected_testing shape = \"+str(projected_testing.shape))\n",
        "    return projected_training, projected_testing\n"
      ]
    },
    {
      "cell_type": "code",
      "execution_count": null,
      "metadata": {
        "id": "An_cUCX9C8oX",
        "cellView": "form"
      },
      "outputs": [],
      "source": [
        "#@title\n",
        "X_train=df_train.drop(columns='target')\n",
        "X_test=df_test.drop(columns='target')\n",
        "y_train=df_train['target']\n",
        "y_test=df_test['target']"
      ]
    },
    {
      "cell_type": "markdown",
      "source": [
        "## Using KNN"
      ],
      "metadata": {
        "id": "UoB1HcJ6yW3p"
      }
    },
    {
      "cell_type": "markdown",
      "source": [
        "### First we make prediction using k=1 , after we get the projection matrices , we store them to use them again in another Ks , also in every trial we store accuracy to be used in plots"
      ],
      "metadata": {
        "id": "F3A4sCYVyYqC"
      }
    },
    {
      "cell_type": "code",
      "execution_count": null,
      "metadata": {
        "id": "YjISfAwGjlaX"
      },
      "outputs": [],
      "source": [
        "accuracy=[]\n",
        "alphas_dict_proj={} # each key represents a value of alpha , the value of each key is a list containing two matrices , first is proj train , second is proj test\n",
        "alphas_dict_acc={}\n",
        "alphas_dict_acc[\"0.8\"]=[]\n",
        "alphas_dict_acc[\"0.85\"]=[]\n",
        "alphas_dict_acc[\"0.9\"]=[]\n",
        "alphas_dict_acc[\"0.95\"]=[]"
      ]
    },
    {
      "cell_type": "code",
      "execution_count": null,
      "metadata": {
        "colab": {
          "base_uri": "https://localhost:8080/"
        },
        "id": "3a3iFm13UCDP",
        "outputId": "9fba7e87-5332-4403-f92c-205468bb6de8"
      },
      "outputs": [
        {
          "output_type": "stream",
          "name": "stdout",
          "text": [
            "Eigenvectors shape = (10304, 10304)\n",
            "r =  37\n",
            "U shape = (10304, 37)\n",
            "projected_training shape = (200, 37)\n",
            "projected_testing shape = (200, 37)\n",
            "0.93\n",
            "Eigenvectors shape = (10304, 10304)\n",
            "r =  53\n",
            "U shape = (10304, 53)\n",
            "projected_training shape = (200, 53)\n",
            "projected_testing shape = (200, 53)\n",
            "0.94\n",
            "Eigenvectors shape = (10304, 10304)\n",
            "r =  77\n",
            "U shape = (10304, 77)\n",
            "projected_training shape = (200, 77)\n",
            "projected_testing shape = (200, 77)\n",
            "0.945\n",
            "Eigenvectors shape = (10304, 10304)\n",
            "r =  116\n",
            "U shape = (10304, 116)\n",
            "projected_training shape = (200, 116)\n",
            "projected_testing shape = (200, 116)\n",
            "0.935\n"
          ]
        }
      ],
      "source": [
        "model = KNeighborsClassifier(n_neighbors=1)\n",
        "alphas=[0.8,0.85,0.9,0.95]\n",
        "for alpha in alphas:\n",
        "  matrices=[]\n",
        "  projected_training, projected_testing = PCA(alpha,X_train,X_test)\n",
        "  matrices.append(projected_training)\n",
        "  matrices.append(projected_testing)\n",
        "  alphas_dict_proj[str(alpha)]=matrices\n",
        "  model.fit(projected_training, y_train)\n",
        "  test_pred = model.predict(projected_testing)\n",
        "  #print(classification_report(y_test, test_pred))\n",
        "  acc=accuracy_score(y_test, test_pred)\n",
        "  print(acc)\n",
        "  alphas_dict_acc[str(alpha)].append(acc)\n",
        "  accuracy.append(acc)"
      ]
    },
    {
      "cell_type": "code",
      "execution_count": null,
      "metadata": {
        "colab": {
          "base_uri": "https://localhost:8080/",
          "height": 350
        },
        "id": "evEYUTjSd_nf",
        "outputId": "b6ff4862-727b-4497-fd6a-dc482c5a9a66"
      },
      "outputs": [
        {
          "output_type": "display_data",
          "data": {
            "text/plain": [
              "<Figure size 1080x360 with 1 Axes>"
            ],
            "image/png": "[encoded data removed]"
          },
          "metadata": {
            "needs_background": "light"
          }
        }
      ],
      "source": [
        "import matplotlib.pyplot as plt\n",
        "plt.figure(figsize=(15,5))\n",
        "plt.plot(alphas, accuracy,'--bo', label='line with marker')\n",
        "plt.xlabel(\"Alpha\")\n",
        "plt.ylabel(\"Accuracy\")\n",
        "plt.title(\"Accuracy using K = 1\")\n",
        "plt.show()"
      ]
    },
    {
      "cell_type": "markdown",
      "source": [
        "### From the previous plot , we can estimate that accuracy increases with increasing alpha , it may decrease a little bit but still good"
      ],
      "metadata": {
        "id": "9YXrcRyV0XvR"
      }
    },
    {
      "cell_type": "code",
      "source": [
        "avg_accuracies=[]\n",
        "avg_accuracies.append(sum(accuracy)/len(accuracy))"
      ],
      "metadata": {
        "id": "XoBSkw9NSEKH"
      },
      "execution_count": null,
      "outputs": []
    },
    {
      "cell_type": "markdown",
      "metadata": {
        "id": "ysaswZWnxHfb"
      },
      "source": [
        "## Classifier tuning PCA"
      ]
    },
    {
      "cell_type": "code",
      "execution_count": null,
      "metadata": {
        "id": "LTw6x_mCxQB4"
      },
      "outputs": [],
      "source": [
        "Ks=[3,5,7]"
      ]
    },
    {
      "cell_type": "code",
      "execution_count": null,
      "metadata": {
        "colab": {
          "base_uri": "https://localhost:8080/",
          "height": 985
        },
        "id": "Yc5_ieIqs6_r",
        "outputId": "4f904dd9-f35d-4b42-95d0-4a0f22744c4a"
      },
      "outputs": [
        {
          "output_type": "stream",
          "name": "stdout",
          "text": [
            "0.855\n",
            "0.855\n",
            "0.85\n",
            "0.845\n",
            "Done for alpha = 0.95\n",
            "======================\n",
            "\n",
            "0.805\n",
            "0.83\n",
            "0.815\n",
            "0.815\n",
            "Done for alpha = 0.95\n",
            "======================\n",
            "\n",
            "0.78\n",
            "0.775\n",
            "0.755\n",
            "0.74\n",
            "Done for alpha = 0.95\n",
            "======================\n",
            "\n"
          ]
        },
        {
          "output_type": "display_data",
          "data": {
            "text/plain": [
              "<Figure size 720x720 with 3 Axes>"
            ],
            "image/png": "[encoded data removed]"
          },
          "metadata": {
            "needs_background": "light"
          }
        }
      ],
      "source": [
        "plt.figure(figsize=(10,10))\n",
        "index=1\n",
        "for k in Ks:\n",
        "  kAccuracy=[]\n",
        "  model = KNeighborsClassifier(n_neighbors=k)\n",
        "  alphas=[0.8,0.85,0.9,0.95]\n",
        "  for alpha in alphas:\n",
        "    projected_training=alphas_dict_proj[str(alpha)][0]\n",
        "    projected_testing=alphas_dict_proj[str(alpha)][1]\n",
        "    model.fit(projected_training, y_train)\n",
        "    test_pred = model.predict(projected_testing)\n",
        "    #print(classification_report(y_test, test_pred))\n",
        "    acc=accuracy_score(y_test, test_pred)\n",
        "    print(acc)\n",
        "    alphas_dict_acc[str(alpha)].append(acc)\n",
        "    kAccuracy.append(accuracy_score(y_test, test_pred))\n",
        "  print(\"Done for alpha = \"+str(alpha)+\"\\n======================\\n\")\n",
        "  plt.subplot(2, 2, index)\n",
        "  index+=1\n",
        "  plt.plot(alphas, kAccuracy,'--bo', label='line with marker')\n",
        "  plt.title(\"Accuracy using K = \"+ str(k))\n",
        "  plt.xlabel(\"Alpha\")\n",
        "  plt.ylabel(\"Accuracy\")\n",
        "  avg_accuracies.append(sum(kAccuracy)/len(kAccuracy))"
      ]
    },
    {
      "cell_type": "markdown",
      "source": [
        "### From the previous plot , We deduce that increasing value of K decreases the accuracy with PCA , and it is normal as PCA isn't designed for classification"
      ],
      "metadata": {
        "id": "hCjHTeoB0lOR"
      }
    },
    {
      "cell_type": "code",
      "execution_count": null,
      "metadata": {
        "id": "kCFvs3tsx33j",
        "colab": {
          "base_uri": "https://localhost:8080/",
          "height": 621
        },
        "outputId": "8088d521-e21f-4bbd-b68d-f431fc1980ba"
      },
      "outputs": [
        {
          "output_type": "display_data",
          "data": {
            "text/plain": [
              "<Figure size 720x720 with 4 Axes>"
            ],
            "image/png": "[encoded data removed]"
          },
          "metadata": {
            "needs_background": "light"
          }
        }
      ],
      "source": [
        "index=1\n",
        "plt.figure(figsize=(10,10))\n",
        "for alpha in alphas:\n",
        "  plt.subplot(2, 2, index)\n",
        "  index+=1\n",
        "  plt.plot([1,3,5,7], alphas_dict_acc[str(alpha)],'--bo', label='line with marker')\n",
        "  plt.xlabel(\"K Value\")\n",
        "  plt.ylabel(\"Accuracy\")\n",
        "  plt.title(\"Different accuracies for alpha = \"+str(alpha))"
      ]
    },
    {
      "cell_type": "markdown",
      "source": [
        "### The previous plot showt that for every alpha value , the accuracy is decreasing with increasing K , which proofs our convention"
      ],
      "metadata": {
        "id": "6GshxW6p026J"
      }
    },
    {
      "cell_type": "code",
      "source": [
        "avg_accuracies=avg_accuracies[:4]"
      ],
      "metadata": {
        "id": "VwUTquWKzW26"
      },
      "execution_count": null,
      "outputs": []
    },
    {
      "cell_type": "code",
      "source": [
        "index=1\n",
        "plt.figure(figsize=(10,10))\n",
        "plt.subplot(2, 2, index)\n",
        "index+=1\n",
        "plt.plot([1,3,5,7], avg_accuracies,'--bo', label='line with marker')\n",
        "plt.xlabel(\"K Value\")\n",
        "plt.ylabel(\"Avg Accuracy\")\n",
        "plt.title(\"Average accuracy for different values of K\")"
      ],
      "metadata": {
        "colab": {
          "base_uri": "https://localhost:8080/",
          "height": 342
        },
        "id": "2_WRN6gctyQZ",
        "outputId": "e623e536-b26d-4ad0-9aec-fc7e638d3fe4"
      },
      "execution_count": null,
      "outputs": [
        {
          "output_type": "execute_result",
          "data": {
            "text/plain": [
              "Text(0.5, 1.0, 'Average accuracy for different values of K')"
            ]
          },
          "metadata": {},
          "execution_count": 39
        },
        {
          "output_type": "display_data",
          "data": {
            "text/plain": [
              "<Figure size 720x720 with 1 Axes>"
            ],
            "image/png": "[encoded data removed]"
          },
          "metadata": {
            "needs_background": "light"
          }
        }
      ]
    },
    {
      "cell_type": "markdown",
      "source": [
        "### Another insight to prove our convention ,  the average accuracy decreases as we increase value of K"
      ],
      "metadata": {
        "id": "jbx3lQ2i1CFy"
      }
    },
    {
      "cell_type": "markdown",
      "source": [
        "# LDA"
      ],
      "metadata": {
        "id": "5SEqeHpavPR4"
      }
    },
    {
      "cell_type": "markdown",
      "source": [
        "## Calculating classes means"
      ],
      "metadata": {
        "id": "u3Fy4-FA3FLd"
      }
    },
    {
      "cell_type": "code",
      "source": [
        "classes_means=np.zeros((40,10304))\n",
        "classes_matrix=[] # to be used in another steps\n",
        "for i in range(40):\n",
        "  class_matrix=X_train[i*5:(i+1)*5,:]\n",
        "  classes_matrix.append(class_matrix)\n",
        "  class_mean=np.mean(class_matrix,axis=0,keepdims=True)\n",
        "  classes_means[i]=class_mean"
      ],
      "metadata": {
        "id": "3eGwKS9W5VuU"
      },
      "execution_count": 7,
      "outputs": []
    },
    {
      "cell_type": "markdown",
      "source": [
        "## As we are using LDA for more than two classes, we need the mean of all classes to calculate the between class scatter matrix using this rule\n",
        "## ![image.png](data:image/png;base64,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)\n",
        "## Where nk is number of samples and m is number of classes\n"
      ],
      "metadata": {
        "id": "FCop1cLh-ZbD"
      }
    },
    {
      "cell_type": "code",
      "source": [
        "all_classes_mean=np.mean(X_train,axis=0,keepdims=True)"
      ],
      "metadata": {
        "id": "7f5zVtDL647m"
      },
      "execution_count": 8,
      "outputs": []
    },
    {
      "cell_type": "code",
      "source": [
        "Sb=np.zeros((10304,10304))\n",
        "all_classes_mean=all_classes_mean.reshape(10304,1)\n",
        "for i in range(40):\n",
        "  class_mean=classes_means[i].reshape(10304,1)\n",
        "  Sb+=5*np.dot((class_mean-all_classes_mean),(class_mean-all_classes_mean).T)"
      ],
      "metadata": {
        "id": "E2Xru5Cr-hmE"
      },
      "execution_count": 9,
      "outputs": []
    },
    {
      "cell_type": "markdown",
      "source": [
        "## Center class matrix"
      ],
      "metadata": {
        "id": "MSJ-ll2YIWIW"
      }
    },
    {
      "cell_type": "code",
      "source": [
        "Z=[]\n",
        "for i in range(40):\n",
        "  centered=classes_matrix[i]-classes_means[i]\n",
        "  Z.append(centered)"
      ],
      "metadata": {
        "id": "vyh_7368IVp4"
      },
      "execution_count": 10,
      "outputs": []
    },
    {
      "cell_type": "markdown",
      "source": [
        "## Class sccatter matrix"
      ],
      "metadata": {
        "id": "QgW73HFGVSm7"
      }
    },
    {
      "cell_type": "code",
      "source": [
        "S=np.ones((10304,10304))\n",
        "for i in range(40):\n",
        "  S+=np.dot(Z[i].T,Z[i])"
      ],
      "metadata": {
        "id": "GjwMF19mJEXo"
      },
      "execution_count": 11,
      "outputs": []
    },
    {
      "cell_type": "markdown",
      "source": [
        "## Eigenvectors and eigenvalues"
      ],
      "metadata": {
        "id": "Uzy1ytXvVXqS"
      }
    },
    {
      "cell_type": "code",
      "source": [
        "eig_values,eig_vectors=np.linalg.eigh(np.dot(np.linalg.inv(S),Sb))"
      ],
      "metadata": {
        "id": "KA4WxhRCJ64J"
      },
      "execution_count": 12,
      "outputs": []
    },
    {
      "cell_type": "code",
      "source": [
        "eig_values = eig_values[::-1]\n",
        "eig_vectors = eig_vectors[:,::-1]"
      ],
      "metadata": {
        "id": "TsgIzdPZOOeI"
      },
      "execution_count": 13,
      "outputs": []
    },
    {
      "cell_type": "code",
      "source": [
        "selected=eig_vectors[:,:39]\n",
        "selected.shape"
      ],
      "metadata": {
        "colab": {
          "base_uri": "https://localhost:8080/"
        },
        "id": "160uImeIQaPh",
        "outputId": "086aa795-4689-4be6-af81-ab812a12826d"
      },
      "execution_count": 14,
      "outputs": [
        {
          "output_type": "execute_result",
          "data": {
            "text/plain": [
              "(10304, 39)"
            ]
          },
          "metadata": {},
          "execution_count": 14
        }
      ]
    },
    {
      "cell_type": "code",
      "source": [
        "X_train.shape"
      ],
      "metadata": {
        "colab": {
          "base_uri": "https://localhost:8080/"
        },
        "id": "pGpByszJRQvc",
        "outputId": "184de908-bde5-4371-e1f8-be7080b6051c"
      },
      "execution_count": 15,
      "outputs": [
        {
          "output_type": "execute_result",
          "data": {
            "text/plain": [
              "(200, 10304)"
            ]
          },
          "metadata": {},
          "execution_count": 15
        }
      ]
    },
    {
      "cell_type": "markdown",
      "source": [
        "## Projecting data on the selected eigenvectors"
      ],
      "metadata": {
        "id": "wpr0FX17YlCZ"
      }
    },
    {
      "cell_type": "code",
      "source": [
        "def project(data,proj_matrix):\n",
        "  return np.dot(proj_matrix,data.T).T"
      ],
      "metadata": {
        "id": "tKHvG0WPRAVs"
      },
      "execution_count": 16,
      "outputs": []
    },
    {
      "cell_type": "code",
      "source": [
        "train_proj,test_proj=project(X_train,selected.T),project(X_test,selected.T)"
      ],
      "metadata": {
        "id": "TBuSiZS7Qccn"
      },
      "execution_count": 17,
      "outputs": []
    },
    {
      "cell_type": "markdown",
      "source": [
        "## Applying KNN using different Ks"
      ],
      "metadata": {
        "id": "mYlhXaiWYtZx"
      }
    },
    {
      "cell_type": "code",
      "source": [
        "Ks=[1,3,5,7]\n",
        "lda_accuracies=[]\n",
        "for k in Ks:\n",
        "  model=KNeighborsClassifier(n_neighbors=k)\n",
        "  model.fit(train_proj, y_train)\n",
        "  test_pred = model.predict(test_proj)\n",
        "  acc=accuracy_score(y_test, test_pred)\n",
        "  print(\"Accuracy using k = \"+str(k)+\" = \"+str(acc))\n",
        "  lda_accuracies.append(acc)\n"
      ],
      "metadata": {
        "colab": {
          "base_uri": "https://localhost:8080/"
        },
        "id": "1VU78szsR4kJ",
        "outputId": "d2f1180e-5810-473c-c80d-2bd3d72e4e2a"
      },
      "execution_count": 20,
      "outputs": [
        {
          "output_type": "stream",
          "name": "stdout",
          "text": [
            "Accuracy using k = 1 = 0.945\n",
            "Accuracy using k = 3 = 0.87\n",
            "Accuracy using k = 5 = 0.825\n",
            "Accuracy using k = 7 = 0.78\n"
          ]
        }
      ]
    },
    {
      "cell_type": "code",
      "source": [
        "import matplotlib.pyplot as plt\n",
        "plt.figure(figsize=(10,5))\n",
        "plt.plot(Ks, lda_accuracies,'--bo', label='line with marker')\n",
        "plt.title(\"Tunung K parameter using LDA\")\n",
        "plt.xlabel(\"K\")\n",
        "plt.ylabel(\"Accuracy\")"
      ],
      "metadata": {
        "colab": {
          "base_uri": "https://localhost:8080/",
          "height": 367
        },
        "id": "g5b7GXNrSZH0",
        "outputId": "993c70db-0353-4c10-83d3-81df39221670"
      },
      "execution_count": 25,
      "outputs": [
        {
          "output_type": "execute_result",
          "data": {
            "text/plain": [
              "Text(0, 0.5, 'Accuracy')"
            ]
          },
          "metadata": {},
          "execution_count": 25
        },
        {
          "output_type": "display_data",
          "data": {
            "text/plain": [
              "<Figure size 720x360 with 1 Axes>"
            ],
            "image/png": "[encoded data removed]"
          },
          "metadata": {
            "needs_background": "light"
          }
        }
      ]
    },
    {
      "cell_type": "markdown",
      "source": [
        "## By comparing , PCA performs better than LDA in this problem"
      ],
      "metadata": {
        "id": "yq2D7jL4aRPJ"
      }
    },
    {
      "cell_type": "code",
      "source": [],
      "metadata": {
        "id": "SZdL2Y23WqkM"
      },
      "execution_count": null,
      "outputs": []
    }
  ],
  "metadata": {
    "accelerator": "GPU",
    "colab": {
      "provenance": []
    },
    "gpuClass": "standard",
    "kernelspec": {
      "display_name": "Python 3",
      "name": "python3"
    },
    "language_info": {
      "name": "python"
    }
  },
  "nbformat": 4,
  "nbformat_minor": 0
}