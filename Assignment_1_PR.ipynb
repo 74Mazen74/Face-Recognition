{
  "nbformat": 4,
  "nbformat_minor": 0,
  "metadata": {
    "colab": {
      "provenance": [],
      "include_colab_link": true
    },
    "kernelspec": {
      "name": "python3",
      "display_name": "Python 3"
    },
    "language_info": {
      "name": "python"
    },
    "accelerator": "GPU",
    "gpuClass": "standard"
  },
  "cells": [
    {
      "cell_type": "markdown",
      "metadata": {
        "id": "view-in-github",
        "colab_type": "text"
      },
      "source": [
        "<a href=\"https://colab.research.google.com/github/74Mazen74/Face-Recognition/blob/selmy/Assignment_1_PR.ipynb\" target=\"_parent\"><img src=\"https://colab.research.google.com/assets/colab-badge.svg\" alt=\"Open In Colab\"/></a>"
      ]
    },
    {
      "cell_type": "code",
      "execution_count": 1,
      "metadata": {
        "id": "QIL4UaIrBjLU"
      },
      "outputs": [],
      "source": [
        "import numpy as np\n",
        "import pandas as pd\n",
        "import os\n",
        "import seaborn as sns\n",
        "from sklearn.neighbors import KNeighborsClassifier\n",
        "from sklearn.metrics import classification_report, accuracy_score, confusion_matrix\n",
        "import cv2\n",
        "from sklearn.model_selection import train_test_split\n",
        "import matplotlib.pyplot as plt\n"
      ]
    },
    {
      "cell_type": "code",
      "source": [
        "from google.colab import drive\n",
        "drive.mount('/content/drive/')"
      ],
      "metadata": {
        "colab": {
          "base_uri": "https://localhost:8080/"
        },
        "id": "SPJ4KcEGmvlD",
        "outputId": "5a5d84c2-6f48-4b7d-d1b7-2eddf54b9bbb"
      },
      "execution_count": 2,
      "outputs": [
        {
          "output_type": "stream",
          "name": "stdout",
          "text": [
            "Mounted at /content/drive/\n"
          ]
        }
      ]
    },
    {
      "cell_type": "code",
      "source": [
        "from IPython.display import clear_output\n",
        "# Modify the first path to be the path of the data in your drive\n",
        "!unzip /content/drive/MyDrive/PatternRecognition/Assignment1Data/archive.zip -d /content/sample_data/archive\n",
        "clear_output(wait=False)"
      ],
      "metadata": {
        "id": "3Pp7CUtbDa0u"
      },
      "execution_count": 3,
      "outputs": []
    },
    {
      "cell_type": "markdown",
      "source": [
        "## Read images"
      ],
      "metadata": {
        "id": "dl9lIbZ_EyDX"
      }
    },
    {
      "cell_type": "code",
      "source": [
        "from google.colab.patches import cv2_imshow\n",
        "import cv2\n",
        "img = cv2.imread('/content/sample_data/archive/archive/s1/1.pgm', cv2.IMREAD_UNCHANGED)\n",
        "print(np.array(img, dtype='float64').flatten())\n",
        "cv2_imshow(img)"
      ],
      "metadata": {
        "colab": {
          "base_uri": "https://localhost:8080/",
          "height": 146
        },
        "id": "wXvp_ftvMNPs",
        "outputId": "f990f961-9b79-43d3-c96b-cdd276a0d22a"
      },
      "execution_count": 4,
      "outputs": [
        {
          "output_type": "stream",
          "name": "stdout",
          "text": [
            "[48. 49. 45. ... 47. 46. 46.]\n"
          ]
        },
        {
          "output_type": "display_data",
          "data": {
            "text/plain": [
              "<PIL.Image.Image image mode=L size=92x112 at 0x7F8B27ACEFD0>"
            ],
            "image/png": "[encoded data removed]"
          },
          "metadata": {}
        }
      ]
    },
    {
      "cell_type": "code",
      "source": [
        "images = np.ones((1, 10304))\n",
        "labels=np.array([])\n",
        "for i in range(1,41):\n",
        "  photos=[i for i in range(1, 10+1)]\n",
        "  for photo in photos:\n",
        "    img = cv2.imread('/content/sample_data/archive/archive/s'+str(i)+\"/\"+str(photo)+\".pgm\",0) # zero for gray scale\n",
        "    img = np.reshape(img, (1, 10304))\n",
        "    images = np.append(images, img, axis=0)\n",
        "    labels = np.append(labels, i)\n",
        "labels=np.array(labels)\n",
        "images=images[1:,]"
      ],
      "metadata": {
        "id": "97fbzYKaNQ-U"
      },
      "execution_count": 5,
      "outputs": []
    },
    {
      "cell_type": "code",
      "source": [
        "images\n"
      ],
      "metadata": {
        "colab": {
          "base_uri": "https://localhost:8080/"
        },
        "id": "LwSj9Wf4hd7j",
        "outputId": "5ec4a97b-7bc9-43e3-9582-8ec11bd2f01d"
      },
      "execution_count": 6,
      "outputs": [
        {
          "output_type": "execute_result",
          "data": {
            "text/plain": [
              "array([[ 48.,  49.,  45., ...,  47.,  46.,  46.],\n",
              "       [ 60.,  60.,  62., ...,  32.,  34.,  34.],\n",
              "       [ 39.,  44.,  53., ...,  29.,  26.,  29.],\n",
              "       ...,\n",
              "       [125., 119., 124., ...,  36.,  39.,  40.],\n",
              "       [119., 120., 120., ...,  89.,  94.,  85.],\n",
              "       [125., 124., 124., ...,  36.,  35.,  34.]])"
            ]
          },
          "metadata": {},
          "execution_count": 6
        }
      ]
    },
    {
      "cell_type": "markdown",
      "source": [
        "##Train Test Split"
      ],
      "metadata": {
        "id": "XzkBP0yWB52m"
      }
    },
    {
      "cell_type": "code",
      "source": [
        "X_train=images[1::2] # Odd\n",
        "X_test=images[0::2]  # Even\n",
        "y_train=labels[1::2] # Odd\n",
        "y_test=labels[0::2]  # Even"
      ],
      "metadata": {
        "id": "GX2FyTtkOaft"
      },
      "execution_count": 7,
      "outputs": []
    },
    {
      "cell_type": "code",
      "source": [
        "print(X_train.shape)\n",
        "print(X_test.shape)"
      ],
      "metadata": {
        "colab": {
          "base_uri": "https://localhost:8080/"
        },
        "id": "bT2muV-2hmTj",
        "outputId": "9f9da41a-0cfa-4d6c-b3e8-4b9743deb057"
      },
      "execution_count": 8,
      "outputs": [
        {
          "output_type": "stream",
          "name": "stdout",
          "text": [
            "(200, 10304)\n",
            "(200, 10304)\n"
          ]
        }
      ]
    },
    {
      "cell_type": "markdown",
      "source": [
        "## PCA"
      ],
      "metadata": {
        "id": "lE2dn7_Tu7RQ"
      }
    },
    {
      "cell_type": "code",
      "source": [
        "#Calculating mean\n",
        "def calculate_mean(data):\n",
        "    return np.mean(data)\n",
        "\n",
        "#Centralize data\n",
        "def centeralize(data):\n",
        "    return data - calculate_mean(data)\n",
        "\n",
        "#Covariance Matrix\n",
        "def calculate_covariance_matrix(data):\n",
        "    z = centeralize(data)\n",
        "    return (np.matmul(np.transpose(z), z)) / len(data)\n",
        "\n",
        "#Calculating Eigen values & Eigen vectors\n",
        "def calculate_eigen_vectors(data):\n",
        "    cov = calculate_covariance_matrix(data)\n",
        "    eig_values, eig_vectors = np.linalg.eigh(cov)\n",
        "    idx = eig_values.argsort()[::-1]   \n",
        "    eig_values = eig_values[idx]\n",
        "    eig_vectors = eig_vectors[:,idx]\n",
        "    return eig_values, eig_vectors\n",
        "\n",
        "#Choosing dimensionality\n",
        "def dimensionality(alpha, eig_values):\n",
        "    sum = np.sum(eig_values)\n",
        "    r = 0\n",
        "    i = 0\n",
        "    for value in eig_values: \n",
        "        r = r + eig_values[i]\n",
        "        i = i + 1\n",
        "        if (r / sum >= alpha):\n",
        "            break\n",
        "    return i\n",
        "\n",
        "def reduce_matrix(r, matrix):\n",
        "  U = np.transpose(matrix)\n",
        "  U = U[:][0:r]\n",
        "  U = np.transpose(U)\n",
        "  return U\n",
        "\n",
        "def PCA(alpha,X_train,X_test):\n",
        "    eig_values, eig_vectors = calculate_eigen_vectors(X_train)\n",
        "    r = dimensionality(alpha, eig_values)\n",
        "    print(\"r = \", r)\n",
        "    U = reduce_matrix(r, eig_vectors)\n",
        "    projected_training = np.dot(X_train, U)\n",
        "    projected_testing = np.dot(X_test, U)\n",
        "    return projected_training, projected_testing\n"
      ],
      "metadata": {
        "id": "G-Dt0u_hB5TK"
      },
      "execution_count": 9,
      "outputs": []
    },
    {
      "cell_type": "code",
      "source": [
        "accuracy=[]"
      ],
      "metadata": {
        "id": "YjISfAwGjlaX"
      },
      "execution_count": 10,
      "outputs": []
    },
    {
      "cell_type": "code",
      "source": [
        "model = KNeighborsClassifier(n_neighbors=1)\n",
        "alphas=[0.8,0.85,0.9,0.95]\n",
        "for i in range(len(alphas)):\n",
        "  projected_training, projected_testing = PCA(alphas[i],X_train,X_test)\n",
        "  model.fit(projected_training, y_train)\n",
        "  test_pred = model.predict(projected_testing)\n",
        "  print(classification_report(y_test, test_pred))\n",
        "  accuracy.append(accuracy_score(y_test, test_pred))"
      ],
      "metadata": {
        "colab": {
          "base_uri": "https://localhost:8080/",
          "height": 1000
        },
        "id": "3a3iFm13UCDP",
        "outputId": "4bd1156d-496e-4321-e03f-d0f6127e0554"
      },
      "execution_count": 120,
      "outputs": [
        {
          "output_type": "stream",
          "name": "stderr",
          "text": [
            "<ipython-input-118-ddf5c8517168>:12: FutureWarning: Calling a ufunc on non-aligned DataFrames (or DataFrame/Series combination). Currently, the indices are ignored and the result takes the index/columns of the first DataFrame. In the future , the DataFrames/Series will be aligned before applying the ufunc.\n",
            "Convert one of the arguments to a NumPy array (eg 'ufunc(df1, np.asarray(df2)') to keep the current behaviour, or align manually (eg 'df1, df2 = df1.align(df2)') before passing to the ufunc to obtain the future behaviour and silence this warning.\n",
            "  return (np.matmul(np.transpose(z), z)) / len(data)\n"
          ]
        },
        {
          "output_type": "stream",
          "name": "stdout",
          "text": [
            "r =  35\n",
            "              precision    recall  f1-score   support\n",
            "\n",
            "           1       1.00      1.00      1.00         5\n",
            "           2       0.83      1.00      0.91         5\n",
            "           3       1.00      1.00      1.00         5\n",
            "           4       1.00      1.00      1.00         5\n",
            "           5       0.80      0.80      0.80         5\n",
            "           6       1.00      1.00      1.00         5\n",
            "           7       1.00      1.00      1.00         5\n",
            "           8       1.00      1.00      1.00         5\n",
            "           9       0.83      1.00      0.91         5\n",
            "          10       1.00      0.80      0.89         5\n",
            "          11       1.00      1.00      1.00         5\n",
            "          12       1.00      1.00      1.00         5\n",
            "          13       1.00      1.00      1.00         5\n",
            "          14       1.00      1.00      1.00         5\n",
            "          15       1.00      1.00      1.00         5\n",
            "          16       1.00      1.00      1.00         5\n",
            "          17       0.83      1.00      0.91         5\n",
            "          18       1.00      1.00      1.00         5\n",
            "          19       1.00      0.80      0.89         5\n",
            "          20       1.00      1.00      1.00         5\n",
            "          21       0.83      1.00      0.91         5\n",
            "          22       1.00      1.00      1.00         5\n",
            "          23       1.00      0.80      0.89         5\n",
            "          24       1.00      1.00      1.00         5\n",
            "          25       1.00      1.00      1.00         5\n",
            "          26       0.83      1.00      0.91         5\n",
            "          27       1.00      1.00      1.00         5\n",
            "          28       1.00      0.20      0.33         5\n",
            "          29       1.00      1.00      1.00         5\n",
            "          30       1.00      1.00      1.00         5\n",
            "          31       1.00      1.00      1.00         5\n",
            "          32       1.00      1.00      1.00         5\n",
            "          33       1.00      0.80      0.89         5\n",
            "          34       1.00      1.00      1.00         5\n",
            "          35       1.00      0.80      0.89         5\n",
            "          36       1.00      0.80      0.89         5\n",
            "          37       0.62      1.00      0.77         5\n",
            "          38       0.67      0.80      0.73         5\n",
            "          39       1.00      1.00      1.00         5\n",
            "          40       0.83      1.00      0.91         5\n",
            "\n",
            "    accuracy                           0.94       200\n",
            "   macro avg       0.95      0.94      0.94       200\n",
            "weighted avg       0.95      0.94      0.94       200\n",
            "\n"
          ]
        },
        {
          "output_type": "stream",
          "name": "stderr",
          "text": [
            "<ipython-input-118-ddf5c8517168>:12: FutureWarning: Calling a ufunc on non-aligned DataFrames (or DataFrame/Series combination). Currently, the indices are ignored and the result takes the index/columns of the first DataFrame. In the future , the DataFrames/Series will be aligned before applying the ufunc.\n",
            "Convert one of the arguments to a NumPy array (eg 'ufunc(df1, np.asarray(df2)') to keep the current behaviour, or align manually (eg 'df1, df2 = df1.align(df2)') before passing to the ufunc to obtain the future behaviour and silence this warning.\n",
            "  return (np.matmul(np.transpose(z), z)) / len(data)\n"
          ]
        },
        {
          "output_type": "stream",
          "name": "stdout",
          "text": [
            "r =  51\n",
            "              precision    recall  f1-score   support\n",
            "\n",
            "           1       1.00      1.00      1.00         5\n",
            "           2       1.00      1.00      1.00         5\n",
            "           3       1.00      0.80      0.89         5\n",
            "           4       0.83      1.00      0.91         5\n",
            "           5       0.80      0.80      0.80         5\n",
            "           6       1.00      1.00      1.00         5\n",
            "           7       1.00      1.00      1.00         5\n",
            "           8       1.00      1.00      1.00         5\n",
            "           9       0.83      1.00      0.91         5\n",
            "          10       1.00      0.80      0.89         5\n",
            "          11       1.00      1.00      1.00         5\n",
            "          12       1.00      1.00      1.00         5\n",
            "          13       1.00      1.00      1.00         5\n",
            "          14       1.00      1.00      1.00         5\n",
            "          15       1.00      1.00      1.00         5\n",
            "          16       0.83      1.00      0.91         5\n",
            "          17       1.00      1.00      1.00         5\n",
            "          18       1.00      1.00      1.00         5\n",
            "          19       1.00      0.80      0.89         5\n",
            "          20       1.00      1.00      1.00         5\n",
            "          21       0.83      1.00      0.91         5\n",
            "          22       1.00      1.00      1.00         5\n",
            "          23       1.00      0.80      0.89         5\n",
            "          24       1.00      1.00      1.00         5\n",
            "          25       1.00      1.00      1.00         5\n",
            "          26       0.71      1.00      0.83         5\n",
            "          27       1.00      1.00      1.00         5\n",
            "          28       1.00      0.20      0.33         5\n",
            "          29       1.00      1.00      1.00         5\n",
            "          30       1.00      1.00      1.00         5\n",
            "          31       1.00      1.00      1.00         5\n",
            "          32       1.00      1.00      1.00         5\n",
            "          33       1.00      0.80      0.89         5\n",
            "          34       1.00      1.00      1.00         5\n",
            "          35       1.00      0.80      0.89         5\n",
            "          36       1.00      1.00      1.00         5\n",
            "          37       0.71      1.00      0.83         5\n",
            "          38       0.67      0.80      0.73         5\n",
            "          39       1.00      1.00      1.00         5\n",
            "          40       0.83      1.00      0.91         5\n",
            "\n",
            "    accuracy                           0.94       200\n",
            "   macro avg       0.95      0.94      0.94       200\n",
            "weighted avg       0.95      0.94      0.94       200\n",
            "\n"
          ]
        },
        {
          "output_type": "stream",
          "name": "stderr",
          "text": [
            "<ipython-input-118-ddf5c8517168>:12: FutureWarning: Calling a ufunc on non-aligned DataFrames (or DataFrame/Series combination). Currently, the indices are ignored and the result takes the index/columns of the first DataFrame. In the future , the DataFrames/Series will be aligned before applying the ufunc.\n",
            "Convert one of the arguments to a NumPy array (eg 'ufunc(df1, np.asarray(df2)') to keep the current behaviour, or align manually (eg 'df1, df2 = df1.align(df2)') before passing to the ufunc to obtain the future behaviour and silence this warning.\n",
            "  return (np.matmul(np.transpose(z), z)) / len(data)\n"
          ]
        },
        {
          "output_type": "stream",
          "name": "stdout",
          "text": [
            "r =  74\n",
            "              precision    recall  f1-score   support\n",
            "\n",
            "           1       1.00      1.00      1.00         5\n",
            "           2       1.00      1.00      1.00         5\n",
            "           3       1.00      0.80      0.89         5\n",
            "           4       0.83      1.00      0.91         5\n",
            "           5       0.80      0.80      0.80         5\n",
            "           6       1.00      1.00      1.00         5\n",
            "           7       1.00      1.00      1.00         5\n",
            "           8       1.00      1.00      1.00         5\n",
            "           9       0.83      1.00      0.91         5\n",
            "          10       1.00      0.80      0.89         5\n",
            "          11       1.00      1.00      1.00         5\n",
            "          12       1.00      1.00      1.00         5\n",
            "          13       1.00      1.00      1.00         5\n",
            "          14       1.00      1.00      1.00         5\n",
            "          15       1.00      1.00      1.00         5\n",
            "          16       0.83      1.00      0.91         5\n",
            "          17       1.00      1.00      1.00         5\n",
            "          18       1.00      1.00      1.00         5\n",
            "          19       1.00      0.80      0.89         5\n",
            "          20       1.00      1.00      1.00         5\n",
            "          21       0.83      1.00      0.91         5\n",
            "          22       1.00      1.00      1.00         5\n",
            "          23       1.00      0.80      0.89         5\n",
            "          24       1.00      1.00      1.00         5\n",
            "          25       1.00      1.00      1.00         5\n",
            "          26       0.62      1.00      0.77         5\n",
            "          27       1.00      1.00      1.00         5\n",
            "          28       1.00      0.20      0.33         5\n",
            "          29       1.00      1.00      1.00         5\n",
            "          30       1.00      1.00      1.00         5\n",
            "          31       1.00      1.00      1.00         5\n",
            "          32       1.00      1.00      1.00         5\n",
            "          33       1.00      0.80      0.89         5\n",
            "          34       1.00      1.00      1.00         5\n",
            "          35       1.00      0.80      0.89         5\n",
            "          36       1.00      1.00      1.00         5\n",
            "          37       0.83      1.00      0.91         5\n",
            "          38       0.67      0.80      0.73         5\n",
            "          39       1.00      1.00      1.00         5\n",
            "          40       0.83      1.00      0.91         5\n",
            "\n",
            "    accuracy                           0.94       200\n",
            "   macro avg       0.95      0.94      0.94       200\n",
            "weighted avg       0.95      0.94      0.94       200\n",
            "\n"
          ]
        },
        {
          "output_type": "stream",
          "name": "stderr",
          "text": [
            "<ipython-input-118-ddf5c8517168>:12: FutureWarning: Calling a ufunc on non-aligned DataFrames (or DataFrame/Series combination). Currently, the indices are ignored and the result takes the index/columns of the first DataFrame. In the future , the DataFrames/Series will be aligned before applying the ufunc.\n",
            "Convert one of the arguments to a NumPy array (eg 'ufunc(df1, np.asarray(df2)') to keep the current behaviour, or align manually (eg 'df1, df2 = df1.align(df2)') before passing to the ufunc to obtain the future behaviour and silence this warning.\n",
            "  return (np.matmul(np.transpose(z), z)) / len(data)\n"
          ]
        },
        {
          "output_type": "error",
          "ename": "KeyboardInterrupt",
          "evalue": "ignored",
          "traceback": [
            "\u001b[0;31m---------------------------------------------------------------------------\u001b[0m",
            "\u001b[0;31mKeyboardInterrupt\u001b[0m                         Traceback (most recent call last)",
            "\u001b[0;32m<ipython-input-120-f71357df581e>\u001b[0m in \u001b[0;36m<module>\u001b[0;34m\u001b[0m\n\u001b[1;32m      2\u001b[0m \u001b[0malphas\u001b[0m\u001b[0;34m=\u001b[0m\u001b[0;34m[\u001b[0m\u001b[0;36m0.8\u001b[0m\u001b[0;34m,\u001b[0m\u001b[0;36m0.85\u001b[0m\u001b[0;34m,\u001b[0m\u001b[0;36m0.9\u001b[0m\u001b[0;34m,\u001b[0m\u001b[0;36m0.95\u001b[0m\u001b[0;34m]\u001b[0m\u001b[0;34m\u001b[0m\u001b[0;34m\u001b[0m\u001b[0m\n\u001b[1;32m      3\u001b[0m \u001b[0;32mfor\u001b[0m \u001b[0mi\u001b[0m \u001b[0;32min\u001b[0m \u001b[0mrange\u001b[0m\u001b[0;34m(\u001b[0m\u001b[0mlen\u001b[0m\u001b[0;34m(\u001b[0m\u001b[0malphas\u001b[0m\u001b[0;34m)\u001b[0m\u001b[0;34m)\u001b[0m\u001b[0;34m:\u001b[0m\u001b[0;34m\u001b[0m\u001b[0;34m\u001b[0m\u001b[0m\n\u001b[0;32m----> 4\u001b[0;31m   \u001b[0mprojected_training\u001b[0m\u001b[0;34m,\u001b[0m \u001b[0mprojected_testing\u001b[0m \u001b[0;34m=\u001b[0m \u001b[0mPCA\u001b[0m\u001b[0;34m(\u001b[0m\u001b[0malphas\u001b[0m\u001b[0;34m[\u001b[0m\u001b[0mi\u001b[0m\u001b[0;34m]\u001b[0m\u001b[0;34m,\u001b[0m\u001b[0mX_train\u001b[0m\u001b[0;34m,\u001b[0m\u001b[0mX_test\u001b[0m\u001b[0;34m)\u001b[0m\u001b[0;34m\u001b[0m\u001b[0;34m\u001b[0m\u001b[0m\n\u001b[0m\u001b[1;32m      5\u001b[0m   \u001b[0mmodel\u001b[0m\u001b[0;34m.\u001b[0m\u001b[0mfit\u001b[0m\u001b[0;34m(\u001b[0m\u001b[0mprojected_training\u001b[0m\u001b[0;34m,\u001b[0m \u001b[0my_train\u001b[0m\u001b[0;34m)\u001b[0m\u001b[0;34m\u001b[0m\u001b[0;34m\u001b[0m\u001b[0m\n\u001b[1;32m      6\u001b[0m   \u001b[0mtest_pred\u001b[0m \u001b[0;34m=\u001b[0m \u001b[0mmodel\u001b[0m\u001b[0;34m.\u001b[0m\u001b[0mpredict\u001b[0m\u001b[0;34m(\u001b[0m\u001b[0mprojected_testing\u001b[0m\u001b[0;34m)\u001b[0m\u001b[0;34m\u001b[0m\u001b[0;34m\u001b[0m\u001b[0m\n",
            "\u001b[0;32m<ipython-input-118-ddf5c8517168>\u001b[0m in \u001b[0;36mPCA\u001b[0;34m(alpha, X_train, X_test)\u001b[0m\n\u001b[1;32m     40\u001b[0m \u001b[0;34m\u001b[0m\u001b[0m\n\u001b[1;32m     41\u001b[0m \u001b[0;32mdef\u001b[0m \u001b[0mPCA\u001b[0m\u001b[0;34m(\u001b[0m\u001b[0malpha\u001b[0m\u001b[0;34m,\u001b[0m\u001b[0mX_train\u001b[0m\u001b[0;34m,\u001b[0m\u001b[0mX_test\u001b[0m\u001b[0;34m)\u001b[0m\u001b[0;34m:\u001b[0m\u001b[0;34m\u001b[0m\u001b[0;34m\u001b[0m\u001b[0m\n\u001b[0;32m---> 42\u001b[0;31m     \u001b[0meig_values\u001b[0m\u001b[0;34m,\u001b[0m \u001b[0meig_vectors\u001b[0m \u001b[0;34m=\u001b[0m \u001b[0mcalculate_eigen_vectors\u001b[0m\u001b[0;34m(\u001b[0m\u001b[0mX_train\u001b[0m\u001b[0;34m)\u001b[0m\u001b[0;34m\u001b[0m\u001b[0;34m\u001b[0m\u001b[0m\n\u001b[0m\u001b[1;32m     43\u001b[0m     \u001b[0mr\u001b[0m \u001b[0;34m=\u001b[0m \u001b[0mdimensionality\u001b[0m\u001b[0;34m(\u001b[0m\u001b[0malpha\u001b[0m\u001b[0;34m,\u001b[0m \u001b[0meig_values\u001b[0m\u001b[0;34m)\u001b[0m\u001b[0;34m\u001b[0m\u001b[0;34m\u001b[0m\u001b[0m\n\u001b[1;32m     44\u001b[0m     \u001b[0mprint\u001b[0m\u001b[0;34m(\u001b[0m\u001b[0;34m\"r = \"\u001b[0m\u001b[0;34m,\u001b[0m \u001b[0mr\u001b[0m\u001b[0;34m)\u001b[0m\u001b[0;34m\u001b[0m\u001b[0;34m\u001b[0m\u001b[0m\n",
            "\u001b[0;32m<ipython-input-118-ddf5c8517168>\u001b[0m in \u001b[0;36mcalculate_eigen_vectors\u001b[0;34m(data)\u001b[0m\n\u001b[1;32m     15\u001b[0m \u001b[0;32mdef\u001b[0m \u001b[0mcalculate_eigen_vectors\u001b[0m\u001b[0;34m(\u001b[0m\u001b[0mdata\u001b[0m\u001b[0;34m)\u001b[0m\u001b[0;34m:\u001b[0m\u001b[0;34m\u001b[0m\u001b[0;34m\u001b[0m\u001b[0m\n\u001b[1;32m     16\u001b[0m     \u001b[0mcov\u001b[0m \u001b[0;34m=\u001b[0m \u001b[0mcalculate_covariance_matrix\u001b[0m\u001b[0;34m(\u001b[0m\u001b[0mdata\u001b[0m\u001b[0;34m)\u001b[0m\u001b[0;34m\u001b[0m\u001b[0;34m\u001b[0m\u001b[0m\n\u001b[0;32m---> 17\u001b[0;31m     \u001b[0meig_values\u001b[0m\u001b[0;34m,\u001b[0m \u001b[0meig_vectors\u001b[0m \u001b[0;34m=\u001b[0m \u001b[0mnp\u001b[0m\u001b[0;34m.\u001b[0m\u001b[0mlinalg\u001b[0m\u001b[0;34m.\u001b[0m\u001b[0meigh\u001b[0m\u001b[0;34m(\u001b[0m\u001b[0mcov\u001b[0m\u001b[0;34m)\u001b[0m\u001b[0;34m\u001b[0m\u001b[0;34m\u001b[0m\u001b[0m\n\u001b[0m\u001b[1;32m     18\u001b[0m     \u001b[0midx\u001b[0m \u001b[0;34m=\u001b[0m \u001b[0meig_values\u001b[0m\u001b[0;34m.\u001b[0m\u001b[0margsort\u001b[0m\u001b[0;34m(\u001b[0m\u001b[0;34m)\u001b[0m\u001b[0;34m[\u001b[0m\u001b[0;34m:\u001b[0m\u001b[0;34m:\u001b[0m\u001b[0;34m-\u001b[0m\u001b[0;36m1\u001b[0m\u001b[0;34m]\u001b[0m\u001b[0;34m\u001b[0m\u001b[0;34m\u001b[0m\u001b[0m\n\u001b[1;32m     19\u001b[0m     \u001b[0meig_values\u001b[0m \u001b[0;34m=\u001b[0m \u001b[0meig_values\u001b[0m\u001b[0;34m[\u001b[0m\u001b[0midx\u001b[0m\u001b[0;34m]\u001b[0m\u001b[0;34m\u001b[0m\u001b[0;34m\u001b[0m\u001b[0m\n",
            "\u001b[0;32m/usr/local/lib/python3.8/dist-packages/numpy/core/overrides.py\u001b[0m in \u001b[0;36meigh\u001b[0;34m(*args, **kwargs)\u001b[0m\n",
            "\u001b[0;32m/usr/local/lib/python3.8/dist-packages/numpy/linalg/linalg.py\u001b[0m in \u001b[0;36meigh\u001b[0;34m(a, UPLO)\u001b[0m\n\u001b[1;32m   1456\u001b[0m \u001b[0;34m\u001b[0m\u001b[0m\n\u001b[1;32m   1457\u001b[0m     \u001b[0msignature\u001b[0m \u001b[0;34m=\u001b[0m \u001b[0;34m'D->dD'\u001b[0m \u001b[0;32mif\u001b[0m \u001b[0misComplexType\u001b[0m\u001b[0;34m(\u001b[0m\u001b[0mt\u001b[0m\u001b[0;34m)\u001b[0m \u001b[0;32melse\u001b[0m \u001b[0;34m'd->dd'\u001b[0m\u001b[0;34m\u001b[0m\u001b[0;34m\u001b[0m\u001b[0m\n\u001b[0;32m-> 1458\u001b[0;31m     \u001b[0mw\u001b[0m\u001b[0;34m,\u001b[0m \u001b[0mvt\u001b[0m \u001b[0;34m=\u001b[0m \u001b[0mgufunc\u001b[0m\u001b[0;34m(\u001b[0m\u001b[0ma\u001b[0m\u001b[0;34m,\u001b[0m \u001b[0msignature\u001b[0m\u001b[0;34m=\u001b[0m\u001b[0msignature\u001b[0m\u001b[0;34m,\u001b[0m \u001b[0mextobj\u001b[0m\u001b[0;34m=\u001b[0m\u001b[0mextobj\u001b[0m\u001b[0;34m)\u001b[0m\u001b[0;34m\u001b[0m\u001b[0;34m\u001b[0m\u001b[0m\n\u001b[0m\u001b[1;32m   1459\u001b[0m     \u001b[0mw\u001b[0m \u001b[0;34m=\u001b[0m \u001b[0mw\u001b[0m\u001b[0;34m.\u001b[0m\u001b[0mastype\u001b[0m\u001b[0;34m(\u001b[0m\u001b[0m_realType\u001b[0m\u001b[0;34m(\u001b[0m\u001b[0mresult_t\u001b[0m\u001b[0;34m)\u001b[0m\u001b[0;34m,\u001b[0m \u001b[0mcopy\u001b[0m\u001b[0;34m=\u001b[0m\u001b[0;32mFalse\u001b[0m\u001b[0;34m)\u001b[0m\u001b[0;34m\u001b[0m\u001b[0;34m\u001b[0m\u001b[0m\n\u001b[1;32m   1460\u001b[0m     \u001b[0mvt\u001b[0m \u001b[0;34m=\u001b[0m \u001b[0mvt\u001b[0m\u001b[0;34m.\u001b[0m\u001b[0mastype\u001b[0m\u001b[0;34m(\u001b[0m\u001b[0mresult_t\u001b[0m\u001b[0;34m,\u001b[0m \u001b[0mcopy\u001b[0m\u001b[0;34m=\u001b[0m\u001b[0;32mFalse\u001b[0m\u001b[0;34m)\u001b[0m\u001b[0;34m\u001b[0m\u001b[0;34m\u001b[0m\u001b[0m\n",
            "\u001b[0;31mKeyboardInterrupt\u001b[0m: "
          ]
        }
      ]
    },
    {
      "cell_type": "code",
      "source": [
        "import matplotlib.pyplot as plt\n",
        "plt.figure(figsize=(10,10))\n",
        "plt.plot(alphas, accuracy,'--bo', label='line with marker')\n",
        "plt.xlabel(\"Alpha\")\n",
        "plt.ylabel(\"Accuracy\")\n",
        "plt.show()"
      ],
      "metadata": {
        "colab": {
          "base_uri": "https://localhost:8080/",
          "height": 611
        },
        "id": "evEYUTjSd_nf",
        "outputId": "4e1f9ee9-eac1-4fab-bfaa-589d196096df"
      },
      "execution_count": 13,
      "outputs": [
        {
          "output_type": "display_data",
          "data": {
            "text/plain": [
              "<Figure size 720x720 with 1 Axes>"
            ],
            "image/png": "[encoded data removed]"
          },
          "metadata": {}
        }
      ]
    },
    {
      "cell_type": "markdown",
      "source": [
        "##LDA"
      ],
      "metadata": {
        "id": "08I4tZk9NFBT"
      }
    },
    {
      "cell_type": "markdown",
      "source": [
        "##Calculating mean value for every class"
      ],
      "metadata": {
        "id": "ZhXvWvtgh5I8"
      }
    },
    {
      "cell_type": "code",
      "source": [
        "def calculate_classes_mean(data, classes_count):\n",
        "    original_dimensions = 10304\n",
        "    mean_vector = dict()\n",
        "    for label in range(1, classes_count + 1):\n",
        "        # label = str(label)\n",
        "        person_data = data.loc[label]\n",
        "        mean = np.mean(person_data)\n",
        "        mean_vector[label] = mean\n",
        "    return mean_vector"
      ],
      "metadata": {
        "id": "QexCJCXfM1kQ"
      },
      "execution_count": 139,
      "outputs": []
    },
    {
      "cell_type": "markdown",
      "source": [
        "##Calculating S & SB"
      ],
      "metadata": {
        "id": "pnC4SmqZiFGS"
      }
    },
    {
      "cell_type": "code",
      "source": [
        "def calculate_scatter_matrices(data, original_dimensions, classes_count):\n",
        "    total_mean = np.mean(data)\n",
        "    S = np.zeros((original_dimensions, original_dimensions))\n",
        "    SB = np.zeros((original_dimensions, original_dimensions))\n",
        "    mean_vector = calculate_classes_mean(data, classes_count)\n",
        "    for label in range(1, classes_count + 1):\n",
        "        # label = str(label)\n",
        "        print(\"Calculating label \" + str(label))\n",
        "        person_data = data.loc[label]\n",
        "        mean_vector[label]\n",
        "        Z = np.array(person_data - mean_vector[label])\n",
        "        # calculating S matrix\n",
        "        S += Z.T.dot(Z)\n",
        "        nk = person_data.shape[0]\n",
        "        # Reshaping mean_diff\n",
        "        mean_diff = np.array(mean_vector[label] - total_mean).reshape(original_dimensions, 1)\n",
        "        # calculating Sb matrix\n",
        "        SB += nk * (mean_diff).dot(mean_diff.T)\n",
        "    return S, SB"
      ],
      "metadata": {
        "id": "ulllkkXQNf4f"
      },
      "execution_count": 140,
      "outputs": []
    },
    {
      "cell_type": "code",
      "source": [
        "people=40"
      ],
      "metadata": {
        "id": "5wnHh9U9iw01"
      },
      "execution_count": 141,
      "outputs": []
    },
    {
      "cell_type": "code",
      "source": [
        "def LDA(n_components, data, original_dimensions, classes_count):\n",
        "    S, SB = calculate_scatter_matrices(data, original_dimensions, classes_count)\n",
        "    # print(SB.shape)\n",
        "    # print(S)\n",
        "    A = np.linalg.inv(S).dot(SB)\n",
        "    eig_values, eig_vectors = np.linalg.eigh(A)\n",
        "    # sort eigenvalues descendingly\n",
        "    idx = eig_values.argsort()[::-1]   \n",
        "    eig_values = eig_values[idx]\n",
        "    eig_vectors = eig_vectors[:,idx]\n",
        "\n",
        "    # store first n eigenvectors\n",
        "    U = eig_vectors[:, 0:n_components].T\n",
        "    return U"
      ],
      "metadata": {
        "id": "zwjjl0oZ4t4o"
      },
      "execution_count": 142,
      "outputs": []
    },
    {
      "cell_type": "code",
      "source": [
        "def classify(X_train, y_train, X_test, y_test, n_neighbors, confusion_matrix_needed=False):\n",
        "    simple_classifier = KNeighborsClassifier(n_neighbors=n_neighbors)\n",
        "    simple_classifier.fit(X_train, y_train)\n",
        "    test_samples = len(X_test)\n",
        "    acc = 0\n",
        "    y_predict = []\n",
        "    for i in range(test_samples):\n",
        "        result = simple_classifier.predict([X_test[i]])\n",
        "        y_predict.append(result)\n",
        "        if result == y_test[i]:\n",
        "            acc += 1\n",
        "        \n",
        "    acc /= test_samples\n",
        "    print(f'Acc at K = {n_neighbors}: {acc*100} %')\n",
        "    if confusion_matrix_needed:\n",
        "        conf_matrix = confusion_matrix(y_test, y_predict)\n",
        "        return conf_matrix, acc\n",
        "    return acc"
      ],
      "metadata": {
        "id": "UJWsb3kYi9ja"
      },
      "execution_count": 143,
      "outputs": []
    },
    {
      "cell_type": "code",
      "source": [
        "train_data = pd.DataFrame(X_train,index=y_train)"
      ],
      "metadata": {
        "id": "dz0tsGkyjvHK"
      },
      "execution_count": 144,
      "outputs": []
    },
    {
      "cell_type": "code",
      "source": [
        "train_data.head()"
      ],
      "metadata": {
        "colab": {
          "base_uri": "https://localhost:8080/",
          "height": 297
        },
        "id": "sqLxOFpOrX-w",
        "outputId": "9cef67a4-9c6c-4c98-df35-f1e0391da5db"
      },
      "execution_count": 145,
      "outputs": [
        {
          "output_type": "execute_result",
          "data": {
            "text/plain": [
              "     0      1      2      3      4      5      6      7      8      9      \\\n",
              "1.0   60.0   60.0   62.0   53.0   48.0   51.0   61.0   60.0   71.0   68.0   \n",
              "1.0   63.0   53.0   35.0   36.0   33.0   34.0   31.0   35.0   39.0   43.0   \n",
              "1.0   43.0   50.0   41.0   58.0   78.0   83.0   67.0   48.0   44.0   46.0   \n",
              "1.0   44.0   43.0   32.0   32.0   30.0   30.0   38.0   40.0   48.0   66.0   \n",
              "1.0   34.0   34.0   33.0   32.0   38.0   40.0   39.0   49.0   54.0   57.0   \n",
              "\n",
              "     ...  10294  10295  10296  10297  10298  10299  10300  10301  10302  10303  \n",
              "1.0  ...   27.0   35.0   28.0   33.0   31.0   31.0   37.0   32.0   34.0   34.0  \n",
              "1.0  ...  173.0  169.0  166.0  161.0  158.0  169.0  137.0   41.0   10.0   24.0  \n",
              "1.0  ...  167.0  164.0  164.0  162.0  159.0  156.0  155.0  158.0  153.0  169.0  \n",
              "1.0  ...   37.0   42.0   42.0   40.0   33.0   29.0   37.0   43.0   43.0   37.0  \n",
              "1.0  ...   42.0   44.0   38.0   30.0   37.0   30.0   36.0   37.0   40.0   33.0  \n",
              "\n",
              "[5 rows x 10304 columns]"
            ],
            "text/html": [
              "\n",
              "  <div id=\"df-0d25980f-c183-44a2-80be-47296f73cb4e\">\n",
              "    <div class=\"colab-df-container\">\n",
              "      <div>\n",
              "<style scoped>\n",
              "    .dataframe tbody tr th:only-of-type {\n",
              "        vertical-align: middle;\n",
              "    }\n",
              "\n",
              "    .dataframe tbody tr th {\n",
              "        vertical-align: top;\n",
              "    }\n",
              "\n",
              "    .dataframe thead th {\n",
              "        text-align: right;\n",
              "    }\n",
              "</style>\n",
              "<table border=\"1\" class=\"dataframe\">\n",
              "  <thead>\n",
              "    <tr style=\"text-align: right;\">\n",
              "      <th></th>\n",
              "      <th>0</th>\n",
              "      <th>1</th>\n",
              "      <th>2</th>\n",
              "      <th>3</th>\n",
              "      <th>4</th>\n",
              "      <th>5</th>\n",
              "      <th>6</th>\n",
              "      <th>7</th>\n",
              "      <th>8</th>\n",
              "      <th>9</th>\n",
              "      <th>...</th>\n",
              "      <th>10294</th>\n",
              "      <th>10295</th>\n",
              "      <th>10296</th>\n",
              "      <th>10297</th>\n",
              "      <th>10298</th>\n",
              "      <th>10299</th>\n",
              "      <th>10300</th>\n",
              "      <th>10301</th>\n",
              "      <th>10302</th>\n",
              "      <th>10303</th>\n",
              "    </tr>\n",
              "  </thead>\n",
              "  <tbody>\n",
              "    <tr>\n",
              "      <th>1.0</th>\n",
              "      <td>60.0</td>\n",
              "      <td>60.0</td>\n",
              "      <td>62.0</td>\n",
              "      <td>53.0</td>\n",
              "      <td>48.0</td>\n",
              "      <td>51.0</td>\n",
              "      <td>61.0</td>\n",
              "      <td>60.0</td>\n",
              "      <td>71.0</td>\n",
              "      <td>68.0</td>\n",
              "      <td>...</td>\n",
              "      <td>27.0</td>\n",
              "      <td>35.0</td>\n",
              "      <td>28.0</td>\n",
              "      <td>33.0</td>\n",
              "      <td>31.0</td>\n",
              "      <td>31.0</td>\n",
              "      <td>37.0</td>\n",
              "      <td>32.0</td>\n",
              "      <td>34.0</td>\n",
              "      <td>34.0</td>\n",
              "    </tr>\n",
              "    <tr>\n",
              "      <th>1.0</th>\n",
              "      <td>63.0</td>\n",
              "      <td>53.0</td>\n",
              "      <td>35.0</td>\n",
              "      <td>36.0</td>\n",
              "      <td>33.0</td>\n",
              "      <td>34.0</td>\n",
              "      <td>31.0</td>\n",
              "      <td>35.0</td>\n",
              "      <td>39.0</td>\n",
              "      <td>43.0</td>\n",
              "      <td>...</td>\n",
              "      <td>173.0</td>\n",
              "      <td>169.0</td>\n",
              "      <td>166.0</td>\n",
              "      <td>161.0</td>\n",
              "      <td>158.0</td>\n",
              "      <td>169.0</td>\n",
              "      <td>137.0</td>\n",
              "      <td>41.0</td>\n",
              "      <td>10.0</td>\n",
              "      <td>24.0</td>\n",
              "    </tr>\n",
              "    <tr>\n",
              "      <th>1.0</th>\n",
              "      <td>43.0</td>\n",
              "      <td>50.0</td>\n",
              "      <td>41.0</td>\n",
              "      <td>58.0</td>\n",
              "      <td>78.0</td>\n",
              "      <td>83.0</td>\n",
              "      <td>67.0</td>\n",
              "      <td>48.0</td>\n",
              "      <td>44.0</td>\n",
              "      <td>46.0</td>\n",
              "      <td>...</td>\n",
              "      <td>167.0</td>\n",
              "      <td>164.0</td>\n",
              "      <td>164.0</td>\n",
              "      <td>162.0</td>\n",
              "      <td>159.0</td>\n",
              "      <td>156.0</td>\n",
              "      <td>155.0</td>\n",
              "      <td>158.0</td>\n",
              "      <td>153.0</td>\n",
              "      <td>169.0</td>\n",
              "    </tr>\n",
              "    <tr>\n",
              "      <th>1.0</th>\n",
              "      <td>44.0</td>\n",
              "      <td>43.0</td>\n",
              "      <td>32.0</td>\n",
              "      <td>32.0</td>\n",
              "      <td>30.0</td>\n",
              "      <td>30.0</td>\n",
              "      <td>38.0</td>\n",
              "      <td>40.0</td>\n",
              "      <td>48.0</td>\n",
              "      <td>66.0</td>\n",
              "      <td>...</td>\n",
              "      <td>37.0</td>\n",
              "      <td>42.0</td>\n",
              "      <td>42.0</td>\n",
              "      <td>40.0</td>\n",
              "      <td>33.0</td>\n",
              "      <td>29.0</td>\n",
              "      <td>37.0</td>\n",
              "      <td>43.0</td>\n",
              "      <td>43.0</td>\n",
              "      <td>37.0</td>\n",
              "    </tr>\n",
              "    <tr>\n",
              "      <th>1.0</th>\n",
              "      <td>34.0</td>\n",
              "      <td>34.0</td>\n",
              "      <td>33.0</td>\n",
              "      <td>32.0</td>\n",
              "      <td>38.0</td>\n",
              "      <td>40.0</td>\n",
              "      <td>39.0</td>\n",
              "      <td>49.0</td>\n",
              "      <td>54.0</td>\n",
              "      <td>57.0</td>\n",
              "      <td>...</td>\n",
              "      <td>42.0</td>\n",
              "      <td>44.0</td>\n",
              "      <td>38.0</td>\n",
              "      <td>30.0</td>\n",
              "      <td>37.0</td>\n",
              "      <td>30.0</td>\n",
              "      <td>36.0</td>\n",
              "      <td>37.0</td>\n",
              "      <td>40.0</td>\n",
              "      <td>33.0</td>\n",
              "    </tr>\n",
              "  </tbody>\n",
              "</table>\n",
              "<p>5 rows × 10304 columns</p>\n",
              "</div>\n",
              "      <button class=\"colab-df-convert\" onclick=\"convertToInteractive('df-0d25980f-c183-44a2-80be-47296f73cb4e')\"\n",
              "              title=\"Convert this dataframe to an interactive table.\"\n",
              "              style=\"display:none;\">\n",
              "        \n",
              "  <svg xmlns=\"http://www.w3.org/2000/svg\" height=\"24px\"viewBox=\"0 0 24 24\"\n",
              "       width=\"24px\">\n",
              "    <path d=\"M0 0h24v24H0V0z\" fill=\"none\"/>\n",
              "    <path d=\"M18.56 5.44l.94 2.06.94-2.06 2.06-.94-2.06-.94-.94-2.06-.94 2.06-2.06.94zm-11 1L8.5 8.5l.94-2.06 2.06-.94-2.06-.94L8.5 2.5l-.94 2.06-2.06.94zm10 10l.94 2.06.94-2.06 2.06-.94-2.06-.94-.94-2.06-.94 2.06-2.06.94z\"/><path d=\"M17.41 7.96l-1.37-1.37c-.4-.4-.92-.59-1.43-.59-.52 0-1.04.2-1.43.59L10.3 9.45l-7.72 7.72c-.78.78-.78 2.05 0 2.83L4 21.41c.39.39.9.59 1.41.59.51 0 1.02-.2 1.41-.59l7.78-7.78 2.81-2.81c.8-.78.8-2.07 0-2.86zM5.41 20L4 18.59l7.72-7.72 1.47 1.35L5.41 20z\"/>\n",
              "  </svg>\n",
              "      </button>\n",
              "      \n",
              "  <style>\n",
              "    .colab-df-container {\n",
              "      display:flex;\n",
              "      flex-wrap:wrap;\n",
              "      gap: 12px;\n",
              "    }\n",
              "\n",
              "    .colab-df-convert {\n",
              "      background-color: #E8F0FE;\n",
              "      border: none;\n",
              "      border-radius: 50%;\n",
              "      cursor: pointer;\n",
              "      display: none;\n",
              "      fill: #1967D2;\n",
              "      height: 32px;\n",
              "      padding: 0 0 0 0;\n",
              "      width: 32px;\n",
              "    }\n",
              "\n",
              "    .colab-df-convert:hover {\n",
              "      background-color: #E2EBFA;\n",
              "      box-shadow: 0px 1px 2px rgba(60, 64, 67, 0.3), 0px 1px 3px 1px rgba(60, 64, 67, 0.15);\n",
              "      fill: #174EA6;\n",
              "    }\n",
              "\n",
              "    [theme=dark] .colab-df-convert {\n",
              "      background-color: #3B4455;\n",
              "      fill: #D2E3FC;\n",
              "    }\n",
              "\n",
              "    [theme=dark] .colab-df-convert:hover {\n",
              "      background-color: #434B5C;\n",
              "      box-shadow: 0px 1px 3px 1px rgba(0, 0, 0, 0.15);\n",
              "      filter: drop-shadow(0px 1px 2px rgba(0, 0, 0, 0.3));\n",
              "      fill: #FFFFFF;\n",
              "    }\n",
              "  </style>\n",
              "\n",
              "      <script>\n",
              "        const buttonEl =\n",
              "          document.querySelector('#df-0d25980f-c183-44a2-80be-47296f73cb4e button.colab-df-convert');\n",
              "        buttonEl.style.display =\n",
              "          google.colab.kernel.accessAllowed ? 'block' : 'none';\n",
              "\n",
              "        async function convertToInteractive(key) {\n",
              "          const element = document.querySelector('#df-0d25980f-c183-44a2-80be-47296f73cb4e');\n",
              "          const dataTable =\n",
              "            await google.colab.kernel.invokeFunction('convertToInteractive',\n",
              "                                                     [key], {});\n",
              "          if (!dataTable) return;\n",
              "\n",
              "          const docLinkHtml = 'Like what you see? Visit the ' +\n",
              "            '<a target=\"_blank\" href=https://colab.research.google.com/notebooks/data_table.ipynb>data table notebook</a>'\n",
              "            + ' to learn more about interactive tables.';\n",
              "          element.innerHTML = '';\n",
              "          dataTable['output_type'] = 'display_data';\n",
              "          await google.colab.output.renderOutput(dataTable, element);\n",
              "          const docLink = document.createElement('div');\n",
              "          docLink.innerHTML = docLinkHtml;\n",
              "          element.appendChild(docLink);\n",
              "        }\n",
              "      </script>\n",
              "    </div>\n",
              "  </div>\n",
              "  "
            ]
          },
          "metadata": {},
          "execution_count": 145
        }
      ]
    },
    {
      "cell_type": "code",
      "source": [
        "U = LDA(39, train_data, 10304, people)\n",
        "projected_train_data = np.array(np.matmul(X_train, U.T))\n",
        "projected_test_data = np.array(np.matmul(X_test, U.T))\n",
        "k_values = [1, 3, 5, 7]\n",
        "acc = []\n",
        "for k in k_values:\n",
        "    acc.append(classify(projected_train_data, y_train, projected_test_data, y_test, k))\n",
        "plt.plot(k_values, acc)\n",
        "plt.xlabel('Number of neighbors')\n",
        "plt.ylabel('Acc')\n",
        "plt.title('K tunning graph')\n",
        "plt.show()"
      ],
      "metadata": {
        "colab": {
          "base_uri": "https://localhost:8080/",
          "height": 1000
        },
        "id": "AtQDDYJSdpL6",
        "outputId": "8567982d-fb37-4084-b894-7f15223a9c00"
      },
      "execution_count": 146,
      "outputs": [
        {
          "output_type": "stream",
          "name": "stdout",
          "text": [
            "Calculating label 1\n",
            "Calculating label 2\n",
            "Calculating label 3\n",
            "Calculating label 4\n",
            "Calculating label 5\n",
            "Calculating label 6\n",
            "Calculating label 7\n",
            "Calculating label 8\n",
            "Calculating label 9\n",
            "Calculating label 10\n",
            "Calculating label 11\n",
            "Calculating label 12\n",
            "Calculating label 13\n",
            "Calculating label 14\n",
            "Calculating label 15\n",
            "Calculating label 16\n",
            "Calculating label 17\n",
            "Calculating label 18\n",
            "Calculating label 19\n",
            "Calculating label 20\n",
            "Calculating label 21\n",
            "Calculating label 22\n",
            "Calculating label 23\n",
            "Calculating label 24\n",
            "Calculating label 25\n",
            "Calculating label 26\n",
            "Calculating label 27\n",
            "Calculating label 28\n",
            "Calculating label 29\n",
            "Calculating label 30\n",
            "Calculating label 31\n",
            "Calculating label 32\n",
            "Calculating label 33\n",
            "Calculating label 34\n",
            "Calculating label 35\n",
            "Calculating label 36\n",
            "Calculating label 37\n",
            "Calculating label 38\n",
            "Calculating label 39\n",
            "Calculating label 40\n",
            "Acc at K = 1: 89.5 %\n",
            "Acc at K = 3: 83.0 %\n",
            "Acc at K = 5: 80.5 %\n",
            "Acc at K = 7: 78.0 %\n"
          ]
        },
        {
          "output_type": "display_data",
          "data": {
            "text/plain": [
              "<Figure size 432x288 with 1 Axes>"
            ],
            "image/png": "[encoded data removed]"
          },
          "metadata": {
            "needs_background": "light"
          }
        }
      ]
    },
    {
      "cell_type": "markdown",
      "source": [
        "## Classifier tuning PCA"
      ],
      "metadata": {
        "id": "ysaswZWnxHfb"
      }
    },
    {
      "cell_type": "code",
      "source": [
        "Ks=[3,5,7]"
      ],
      "metadata": {
        "id": "LTw6x_mCxQB4"
      },
      "execution_count": null,
      "outputs": []
    },
    {
      "cell_type": "code",
      "source": [
        "for j in range(len(Ks)):\n",
        "  kAccuracy=[]\n",
        "  model = KNeighborsClassifier(n_neighbors=Ks[j])\n",
        "  alphas=[0.8,0.85,0.9,0.95]\n",
        "  for i in range(len(alphas)):\n",
        "    projected_training, projected_testing = PCA(alphas[i],X_train,X_test)\n",
        "    model.fit(projected_training, y_train)\n",
        "    test_pred = model.predict(projected_testing)\n",
        "    print(classification_report(y_test, test_pred))\n",
        "    kAccuracy.append(accuracy_score(y_test, test_pred))\n",
        "  plt.figure(figsize=(10,10))\n",
        "  plt.plot(alphas, kAccuracy,'--bo', label='line with marker')\n",
        "  plt.title(\"Accuracy using K =\"+str(j))\n",
        "  plt.xlabel(\"Alpha\")\n",
        "  plt.ylabel(\"Accuracy\")\n",
        "  plt.show()"
      ],
      "metadata": {
        "colab": {
          "base_uri": "https://localhost:8080/"
        },
        "id": "Yc5_ieIqs6_r",
        "outputId": "ebc71a0a-e008-44c8-a90e-c4828831f230"
      },
      "execution_count": null,
      "outputs": [
        {
          "output_type": "stream",
          "name": "stderr",
          "text": [
            "<ipython-input-9-ddf5c8517168>:12: FutureWarning: Calling a ufunc on non-aligned DataFrames (or DataFrame/Series combination). Currently, the indices are ignored and the result takes the index/columns of the first DataFrame. In the future , the DataFrames/Series will be aligned before applying the ufunc.\n",
            "Convert one of the arguments to a NumPy array (eg 'ufunc(df1, np.asarray(df2)') to keep the current behaviour, or align manually (eg 'df1, df2 = df1.align(df2)') before passing to the ufunc to obtain the future behaviour and silence this warning.\n",
            "  return (np.matmul(np.transpose(z), z)) / len(data)\n"
          ]
        }
      ]
    },
    {
      "cell_type": "code",
      "source": [],
      "metadata": {
        "id": "kCFvs3tsx33j"
      },
      "execution_count": null,
      "outputs": []
    }
  ]
}