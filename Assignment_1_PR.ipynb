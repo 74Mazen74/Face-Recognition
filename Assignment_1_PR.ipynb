{
  "nbformat": 4,
  "nbformat_minor": 0,
  "metadata": {
    "colab": {
      "provenance": [],
      "include_colab_link": true
    },
    "kernelspec": {
      "name": "python3",
      "display_name": "Python 3"
    },
    "language_info": {
      "name": "python"
    },
    "accelerator": "GPU",
    "gpuClass": "standard"
  },
  "cells": [
    {
      "cell_type": "markdown",
      "metadata": {
        "id": "view-in-github",
        "colab_type": "text"
      },
      "source": [
        "<a href=\"https://colab.research.google.com/github/74Mazen74/Face-Recognition/blob/selmy/Assignment_1_PR.ipynb\" target=\"_parent\"><img src=\"https://colab.research.google.com/assets/colab-badge.svg\" alt=\"Open In Colab\"/></a>"
      ]
    },
    {
      "cell_type": "code",
      "execution_count": 1,
      "metadata": {
        "id": "QIL4UaIrBjLU"
      },
      "outputs": [],
      "source": [
        "import numpy as np\n",
        "import pandas as pd\n",
        "import os\n",
        "import seaborn as sns\n",
        "from sklearn.neighbors import KNeighborsClassifier\n",
        "from sklearn.metrics import classification_report, accuracy_score, confusion_matrix\n",
        "import cv2\n",
        "from sklearn.model_selection import train_test_split"
      ]
    },
    {
      "cell_type": "code",
      "source": [
        "from google.colab import drive\n",
        "drive.mount('/content/drive/')"
      ],
      "metadata": {
        "colab": {
          "base_uri": "https://localhost:8080/"
        },
        "id": "SPJ4KcEGmvlD",
        "outputId": "44a17945-d23b-41ab-c455-81087ac20fa6"
      },
      "execution_count": 2,
      "outputs": [
        {
          "output_type": "stream",
          "name": "stdout",
          "text": [
            "Drive already mounted at /content/drive/; to attempt to forcibly remount, call drive.mount(\"/content/drive/\", force_remount=True).\n"
          ]
        }
      ]
    },
    {
      "cell_type": "code",
      "source": [
        "from IPython.display import clear_output\n",
        "# Modify the first path to be the path of the data in your drive\n",
        "!unzip /content/drive/MyDrive/PatternRecognition/Assignment1Data/archive.zip -d /content/sample_data/archive\n",
        "clear_output(wait=False)"
      ],
      "metadata": {
        "id": "3Pp7CUtbDa0u"
      },
      "execution_count": 3,
      "outputs": []
    },
    {
      "cell_type": "markdown",
      "source": [
        "## Read images"
      ],
      "metadata": {
        "id": "dl9lIbZ_EyDX"
      }
    },
    {
      "cell_type": "code",
      "source": [
        "from google.colab.patches import cv2_imshow\n",
        "import cv2\n",
        "img = cv2.imread('/content/sample_data/archive/archive/s1/1.pgm', cv2.IMREAD_UNCHANGED)\n",
        "cv2_imshow(img)"
      ],
      "metadata": {
        "colab": {
          "base_uri": "https://localhost:8080/",
          "height": 129
        },
        "id": "wXvp_ftvMNPs",
        "outputId": "a6d0a561-e6fe-4523-dda9-8f350f4cc3f0"
      },
      "execution_count": 5,
      "outputs": [
        {
          "output_type": "display_data",
          "data": {
            "text/plain": [
              "<PIL.Image.Image image mode=L size=92x112 at 0x7F9167E3D880>"
            ],
            "image/png": "[encoded data removed]"
          },
          "metadata": {}
        }
      ]
    },
    {
      "cell_type": "code",
      "source": [
        "images=[]\n",
        "labels=[]\n",
        "for i in range(1,41):\n",
        "  photos = os.listdir('/content/sample_data/archive/archive/s'+str(i))\n",
        "  for photo in photos:\n",
        "    img = cv2.imread('/content/sample_data/archive/archive/s'+str(i)+\"/\"+photo,0) # zero for gray scale\n",
        "    img_col = np.array(img, dtype='float64').flatten()\n",
        "    sub = int(i)\n",
        "    images.append(img_col)\n",
        "    labels.append(sub)"
      ],
      "metadata": {
        "id": "97fbzYKaNQ-U"
      },
      "execution_count": 6,
      "outputs": []
    },
    {
      "cell_type": "code",
      "source": [
        "df=pd.DataFrame(data=images)\n",
        "df['target']=labels\n",
        "df.head()"
      ],
      "metadata": {
        "colab": {
          "base_uri": "https://localhost:8080/",
          "height": 297
        },
        "id": "OmIJuJKoLqUy",
        "outputId": "658c671f-c381-44ee-a4b6-65390526ab43"
      },
      "execution_count": 7,
      "outputs": [
        {
          "output_type": "execute_result",
          "data": {
            "text/plain": [
              "      0     1     2     3     4     5     6     7     8     9  ...  10295  \\\n",
              "0  48.0  49.0  45.0  47.0  49.0  57.0  39.0  42.0  53.0  49.0  ...   44.0   \n",
              "1  41.0  47.0  47.0  46.0  44.0  49.0  48.0  58.0  61.0  49.0  ...   34.0   \n",
              "2  39.0  44.0  53.0  37.0  61.0  48.0  61.0  45.0  35.0  40.0  ...   30.0   \n",
              "3  63.0  53.0  35.0  36.0  33.0  34.0  31.0  35.0  39.0  43.0  ...  169.0   \n",
              "4  43.0  50.0  41.0  58.0  78.0  83.0  67.0  48.0  44.0  46.0  ...  164.0   \n",
              "\n",
              "   10296  10297  10298  10299  10300  10301  10302  10303  target  \n",
              "0   40.0   41.0   49.0   42.0   44.0   47.0   46.0   46.0       1  \n",
              "1   35.0   34.0   36.0   34.0   39.0   35.0   37.0   38.0       1  \n",
              "2   36.0   32.0   28.0   32.0   31.0   29.0   26.0   29.0       1  \n",
              "3  166.0  161.0  158.0  169.0  137.0   41.0   10.0   24.0       1  \n",
              "4  164.0  162.0  159.0  156.0  155.0  158.0  153.0  169.0       1  \n",
              "\n",
              "[5 rows x 10305 columns]"
            ],
            "text/html": [
              "\n",
              "  <div id=\"df-29ce7240-9224-4313-a54c-17e693e88d02\">\n",
              "    <div class=\"colab-df-container\">\n",
              "      <div>\n",
              "<style scoped>\n",
              "    .dataframe tbody tr th:only-of-type {\n",
              "        vertical-align: middle;\n",
              "    }\n",
              "\n",
              "    .dataframe tbody tr th {\n",
              "        vertical-align: top;\n",
              "    }\n",
              "\n",
              "    .dataframe thead th {\n",
              "        text-align: right;\n",
              "    }\n",
              "</style>\n",
              "<table border=\"1\" class=\"dataframe\">\n",
              "  <thead>\n",
              "    <tr style=\"text-align: right;\">\n",
              "      <th></th>\n",
              "      <th>0</th>\n",
              "      <th>1</th>\n",
              "      <th>2</th>\n",
              "      <th>3</th>\n",
              "      <th>4</th>\n",
              "      <th>5</th>\n",
              "      <th>6</th>\n",
              "      <th>7</th>\n",
              "      <th>8</th>\n",
              "      <th>9</th>\n",
              "      <th>...</th>\n",
              "      <th>10295</th>\n",
              "      <th>10296</th>\n",
              "      <th>10297</th>\n",
              "      <th>10298</th>\n",
              "      <th>10299</th>\n",
              "      <th>10300</th>\n",
              "      <th>10301</th>\n",
              "      <th>10302</th>\n",
              "      <th>10303</th>\n",
              "      <th>target</th>\n",
              "    </tr>\n",
              "  </thead>\n",
              "  <tbody>\n",
              "    <tr>\n",
              "      <th>0</th>\n",
              "      <td>48.0</td>\n",
              "      <td>49.0</td>\n",
              "      <td>45.0</td>\n",
              "      <td>47.0</td>\n",
              "      <td>49.0</td>\n",
              "      <td>57.0</td>\n",
              "      <td>39.0</td>\n",
              "      <td>42.0</td>\n",
              "      <td>53.0</td>\n",
              "      <td>49.0</td>\n",
              "      <td>...</td>\n",
              "      <td>44.0</td>\n",
              "      <td>40.0</td>\n",
              "      <td>41.0</td>\n",
              "      <td>49.0</td>\n",
              "      <td>42.0</td>\n",
              "      <td>44.0</td>\n",
              "      <td>47.0</td>\n",
              "      <td>46.0</td>\n",
              "      <td>46.0</td>\n",
              "      <td>1</td>\n",
              "    </tr>\n",
              "    <tr>\n",
              "      <th>1</th>\n",
              "      <td>41.0</td>\n",
              "      <td>47.0</td>\n",
              "      <td>47.0</td>\n",
              "      <td>46.0</td>\n",
              "      <td>44.0</td>\n",
              "      <td>49.0</td>\n",
              "      <td>48.0</td>\n",
              "      <td>58.0</td>\n",
              "      <td>61.0</td>\n",
              "      <td>49.0</td>\n",
              "      <td>...</td>\n",
              "      <td>34.0</td>\n",
              "      <td>35.0</td>\n",
              "      <td>34.0</td>\n",
              "      <td>36.0</td>\n",
              "      <td>34.0</td>\n",
              "      <td>39.0</td>\n",
              "      <td>35.0</td>\n",
              "      <td>37.0</td>\n",
              "      <td>38.0</td>\n",
              "      <td>1</td>\n",
              "    </tr>\n",
              "    <tr>\n",
              "      <th>2</th>\n",
              "      <td>39.0</td>\n",
              "      <td>44.0</td>\n",
              "      <td>53.0</td>\n",
              "      <td>37.0</td>\n",
              "      <td>61.0</td>\n",
              "      <td>48.0</td>\n",
              "      <td>61.0</td>\n",
              "      <td>45.0</td>\n",
              "      <td>35.0</td>\n",
              "      <td>40.0</td>\n",
              "      <td>...</td>\n",
              "      <td>30.0</td>\n",
              "      <td>36.0</td>\n",
              "      <td>32.0</td>\n",
              "      <td>28.0</td>\n",
              "      <td>32.0</td>\n",
              "      <td>31.0</td>\n",
              "      <td>29.0</td>\n",
              "      <td>26.0</td>\n",
              "      <td>29.0</td>\n",
              "      <td>1</td>\n",
              "    </tr>\n",
              "    <tr>\n",
              "      <th>3</th>\n",
              "      <td>63.0</td>\n",
              "      <td>53.0</td>\n",
              "      <td>35.0</td>\n",
              "      <td>36.0</td>\n",
              "      <td>33.0</td>\n",
              "      <td>34.0</td>\n",
              "      <td>31.0</td>\n",
              "      <td>35.0</td>\n",
              "      <td>39.0</td>\n",
              "      <td>43.0</td>\n",
              "      <td>...</td>\n",
              "      <td>169.0</td>\n",
              "      <td>166.0</td>\n",
              "      <td>161.0</td>\n",
              "      <td>158.0</td>\n",
              "      <td>169.0</td>\n",
              "      <td>137.0</td>\n",
              "      <td>41.0</td>\n",
              "      <td>10.0</td>\n",
              "      <td>24.0</td>\n",
              "      <td>1</td>\n",
              "    </tr>\n",
              "    <tr>\n",
              "      <th>4</th>\n",
              "      <td>43.0</td>\n",
              "      <td>50.0</td>\n",
              "      <td>41.0</td>\n",
              "      <td>58.0</td>\n",
              "      <td>78.0</td>\n",
              "      <td>83.0</td>\n",
              "      <td>67.0</td>\n",
              "      <td>48.0</td>\n",
              "      <td>44.0</td>\n",
              "      <td>46.0</td>\n",
              "      <td>...</td>\n",
              "      <td>164.0</td>\n",
              "      <td>164.0</td>\n",
              "      <td>162.0</td>\n",
              "      <td>159.0</td>\n",
              "      <td>156.0</td>\n",
              "      <td>155.0</td>\n",
              "      <td>158.0</td>\n",
              "      <td>153.0</td>\n",
              "      <td>169.0</td>\n",
              "      <td>1</td>\n",
              "    </tr>\n",
              "  </tbody>\n",
              "</table>\n",
              "<p>5 rows × 10305 columns</p>\n",
              "</div>\n",
              "      <button class=\"colab-df-convert\" onclick=\"convertToInteractive('df-29ce7240-9224-4313-a54c-17e693e88d02')\"\n",
              "              title=\"Convert this dataframe to an interactive table.\"\n",
              "              style=\"display:none;\">\n",
              "        \n",
              "  <svg xmlns=\"http://www.w3.org/2000/svg\" height=\"24px\"viewBox=\"0 0 24 24\"\n",
              "       width=\"24px\">\n",
              "    <path d=\"M0 0h24v24H0V0z\" fill=\"none\"/>\n",
              "    <path d=\"M18.56 5.44l.94 2.06.94-2.06 2.06-.94-2.06-.94-.94-2.06-.94 2.06-2.06.94zm-11 1L8.5 8.5l.94-2.06 2.06-.94-2.06-.94L8.5 2.5l-.94 2.06-2.06.94zm10 10l.94 2.06.94-2.06 2.06-.94-2.06-.94-.94-2.06-.94 2.06-2.06.94z\"/><path d=\"M17.41 7.96l-1.37-1.37c-.4-.4-.92-.59-1.43-.59-.52 0-1.04.2-1.43.59L10.3 9.45l-7.72 7.72c-.78.78-.78 2.05 0 2.83L4 21.41c.39.39.9.59 1.41.59.51 0 1.02-.2 1.41-.59l7.78-7.78 2.81-2.81c.8-.78.8-2.07 0-2.86zM5.41 20L4 18.59l7.72-7.72 1.47 1.35L5.41 20z\"/>\n",
              "  </svg>\n",
              "      </button>\n",
              "      \n",
              "  <style>\n",
              "    .colab-df-container {\n",
              "      display:flex;\n",
              "      flex-wrap:wrap;\n",
              "      gap: 12px;\n",
              "    }\n",
              "\n",
              "    .colab-df-convert {\n",
              "      background-color: #E8F0FE;\n",
              "      border: none;\n",
              "      border-radius: 50%;\n",
              "      cursor: pointer;\n",
              "      display: none;\n",
              "      fill: #1967D2;\n",
              "      height: 32px;\n",
              "      padding: 0 0 0 0;\n",
              "      width: 32px;\n",
              "    }\n",
              "\n",
              "    .colab-df-convert:hover {\n",
              "      background-color: #E2EBFA;\n",
              "      box-shadow: 0px 1px 2px rgba(60, 64, 67, 0.3), 0px 1px 3px 1px rgba(60, 64, 67, 0.15);\n",
              "      fill: #174EA6;\n",
              "    }\n",
              "\n",
              "    [theme=dark] .colab-df-convert {\n",
              "      background-color: #3B4455;\n",
              "      fill: #D2E3FC;\n",
              "    }\n",
              "\n",
              "    [theme=dark] .colab-df-convert:hover {\n",
              "      background-color: #434B5C;\n",
              "      box-shadow: 0px 1px 3px 1px rgba(0, 0, 0, 0.15);\n",
              "      filter: drop-shadow(0px 1px 2px rgba(0, 0, 0, 0.3));\n",
              "      fill: #FFFFFF;\n",
              "    }\n",
              "  </style>\n",
              "\n",
              "      <script>\n",
              "        const buttonEl =\n",
              "          document.querySelector('#df-29ce7240-9224-4313-a54c-17e693e88d02 button.colab-df-convert');\n",
              "        buttonEl.style.display =\n",
              "          google.colab.kernel.accessAllowed ? 'block' : 'none';\n",
              "\n",
              "        async function convertToInteractive(key) {\n",
              "          const element = document.querySelector('#df-29ce7240-9224-4313-a54c-17e693e88d02');\n",
              "          const dataTable =\n",
              "            await google.colab.kernel.invokeFunction('convertToInteractive',\n",
              "                                                     [key], {});\n",
              "          if (!dataTable) return;\n",
              "\n",
              "          const docLinkHtml = 'Like what you see? Visit the ' +\n",
              "            '<a target=\"_blank\" href=https://colab.research.google.com/notebooks/data_table.ipynb>data table notebook</a>'\n",
              "            + ' to learn more about interactive tables.';\n",
              "          element.innerHTML = '';\n",
              "          dataTable['output_type'] = 'display_data';\n",
              "          await google.colab.output.renderOutput(dataTable, element);\n",
              "          const docLink = document.createElement('div');\n",
              "          docLink.innerHTML = docLinkHtml;\n",
              "          element.appendChild(docLink);\n",
              "        }\n",
              "      </script>\n",
              "    </div>\n",
              "  </div>\n",
              "  "
            ]
          },
          "metadata": {},
          "execution_count": 7
        }
      ]
    },
    {
      "cell_type": "code",
      "source": [
        "sns.countplot(x='target', data=df)\n",
        "sns.set(rc={'figure.figsize':(25,10)})"
      ],
      "metadata": {
        "colab": {
          "base_uri": "https://localhost:8080/",
          "height": 434
        },
        "id": "4lCoerMXMmqc",
        "outputId": "772e5839-30b0-449b-a261-1c14408a7d11"
      },
      "execution_count": 116,
      "outputs": [
        {
          "output_type": "display_data",
          "data": {
            "text/plain": [
              "<Figure size 1800x720 with 1 Axes>"
            ],
            "image/png": "[encoded data removed]"
          },
          "metadata": {}
        }
      ]
    },
    {
      "cell_type": "markdown",
      "source": [
        "##Train Test Split"
      ],
      "metadata": {
        "id": "XzkBP0yWB52m"
      }
    },
    {
      "cell_type": "code",
      "source": [
        "df_test = df[df.index % 2 == 0]\n",
        "df_train = df[df.index % 2 != 0]"
      ],
      "metadata": {
        "id": "GX2FyTtkOaft"
      },
      "execution_count": 8,
      "outputs": []
    },
    {
      "cell_type": "markdown",
      "source": [
        "## PCA"
      ],
      "metadata": {
        "id": "lE2dn7_Tu7RQ"
      }
    },
    {
      "cell_type": "code",
      "source": [
        "#Calculating mean\n",
        "def calculate_mean(data):\n",
        "    return np.mean(data)\n",
        "\n",
        "#Centralize data\n",
        "def centeralize(data):\n",
        "    return data - calculate_mean(data)\n",
        "\n",
        "#Covariance Matrix\n",
        "def calculate_covariance_matrix(data):\n",
        "    z = centeralize(data)\n",
        "    return (np.matmul(np.transpose(z), z)) / len(data)\n",
        "\n",
        "#Calculating Eigen values & Eigen vectors\n",
        "def calculate_eigen_vectors(data):\n",
        "    cov = calculate_covariance_matrix(data)\n",
        "    eig_values, eig_vectors = np.linalg.eigh(cov)\n",
        "    idx = eig_values.argsort()[::-1]   \n",
        "    eig_values = eig_values[idx]\n",
        "    eig_vectors = eig_vectors[:,idx]\n",
        "    return eig_values, eig_vectors\n",
        "\n",
        "#Choosing dimensionality\n",
        "def dimensionality(alpha, eig_values):\n",
        "    sum = np.sum(eig_values)\n",
        "    r = 0\n",
        "    i = 0\n",
        "    for value in eig_values: \n",
        "        r = r + eig_values[i]\n",
        "        i = i + 1\n",
        "        if (r / sum >= alpha):\n",
        "            break\n",
        "    return i\n",
        "\n",
        "def reduce_matrix(r, matrix):\n",
        "  U = np.transpose(matrix)\n",
        "  U = U[:][0:r]\n",
        "  U = np.transpose(U)\n",
        "  return U\n",
        "\n",
        "def PCA(alpha,X_train,X_test):\n",
        "    eig_values, eig_vectors = calculate_eigen_vectors(X_train)\n",
        "    r = dimensionality(alpha, eig_values)\n",
        "    print(\"r = \", r)\n",
        "    U = reduce_matrix(r, eig_vectors)\n",
        "    projected_training = np.dot(X_train, U)\n",
        "    projected_testing = np.dot(X_test, U)\n",
        "    return projected_training, projected_testing\n"
      ],
      "metadata": {
        "id": "G-Dt0u_hB5TK"
      },
      "execution_count": 9,
      "outputs": []
    },
    {
      "cell_type": "code",
      "source": [
        "X_train=df_train.drop(columns='target')\n",
        "X_test=df_test.drop(columns='target')\n",
        "y_train=df_train['target']\n",
        "y_test=df_test['target']"
      ],
      "metadata": {
        "id": "An_cUCX9C8oX"
      },
      "execution_count": 24,
      "outputs": []
    },
    {
      "cell_type": "code",
      "source": [
        "accuracy=[]"
      ],
      "metadata": {
        "id": "YjISfAwGjlaX"
      },
      "execution_count": 11,
      "outputs": []
    },
    {
      "cell_type": "code",
      "source": [
        "model = KNeighborsClassifier(n_neighbors=1)\n",
        "alphas=[0.8,0.85,0.9,0.95]\n",
        "for i in range(len(alphas)):\n",
        "  projected_training, projected_testing = PCA(alphas[i],X_train,X_test)\n",
        "  model.fit(projected_training, y_train)\n",
        "  test_pred = model.predict(projected_testing)\n",
        "  print(classification_report(y_test, test_pred))\n",
        "  accuracy.append(accuracy_score(y_test, test_pred))"
      ],
      "metadata": {
        "colab": {
          "base_uri": "https://localhost:8080/",
          "height": 1000
        },
        "id": "3a3iFm13UCDP",
        "outputId": "4bd1156d-496e-4321-e03f-d0f6127e0554"
      },
      "execution_count": 120,
      "outputs": [
        {
          "output_type": "stream",
          "name": "stderr",
          "text": [
            "<ipython-input-118-ddf5c8517168>:12: FutureWarning: Calling a ufunc on non-aligned DataFrames (or DataFrame/Series combination). Currently, the indices are ignored and the result takes the index/columns of the first DataFrame. In the future , the DataFrames/Series will be aligned before applying the ufunc.\n",
            "Convert one of the arguments to a NumPy array (eg 'ufunc(df1, np.asarray(df2)') to keep the current behaviour, or align manually (eg 'df1, df2 = df1.align(df2)') before passing to the ufunc to obtain the future behaviour and silence this warning.\n",
            "  return (np.matmul(np.transpose(z), z)) / len(data)\n"
          ]
        },
        {
          "output_type": "stream",
          "name": "stdout",
          "text": [
            "r =  35\n",
            "              precision    recall  f1-score   support\n",
            "\n",
            "           1       1.00      1.00      1.00         5\n",
            "           2       0.83      1.00      0.91         5\n",
            "           3       1.00      1.00      1.00         5\n",
            "           4       1.00      1.00      1.00         5\n",
            "           5       0.80      0.80      0.80         5\n",
            "           6       1.00      1.00      1.00         5\n",
            "           7       1.00      1.00      1.00         5\n",
            "           8       1.00      1.00      1.00         5\n",
            "           9       0.83      1.00      0.91         5\n",
            "          10       1.00      0.80      0.89         5\n",
            "          11       1.00      1.00      1.00         5\n",
            "          12       1.00      1.00      1.00         5\n",
            "          13       1.00      1.00      1.00         5\n",
            "          14       1.00      1.00      1.00         5\n",
            "          15       1.00      1.00      1.00         5\n",
            "          16       1.00      1.00      1.00         5\n",
            "          17       0.83      1.00      0.91         5\n",
            "          18       1.00      1.00      1.00         5\n",
            "          19       1.00      0.80      0.89         5\n",
            "          20       1.00      1.00      1.00         5\n",
            "          21       0.83      1.00      0.91         5\n",
            "          22       1.00      1.00      1.00         5\n",
            "          23       1.00      0.80      0.89         5\n",
            "          24       1.00      1.00      1.00         5\n",
            "          25       1.00      1.00      1.00         5\n",
            "          26       0.83      1.00      0.91         5\n",
            "          27       1.00      1.00      1.00         5\n",
            "          28       1.00      0.20      0.33         5\n",
            "          29       1.00      1.00      1.00         5\n",
            "          30       1.00      1.00      1.00         5\n",
            "          31       1.00      1.00      1.00         5\n",
            "          32       1.00      1.00      1.00         5\n",
            "          33       1.00      0.80      0.89         5\n",
            "          34       1.00      1.00      1.00         5\n",
            "          35       1.00      0.80      0.89         5\n",
            "          36       1.00      0.80      0.89         5\n",
            "          37       0.62      1.00      0.77         5\n",
            "          38       0.67      0.80      0.73         5\n",
            "          39       1.00      1.00      1.00         5\n",
            "          40       0.83      1.00      0.91         5\n",
            "\n",
            "    accuracy                           0.94       200\n",
            "   macro avg       0.95      0.94      0.94       200\n",
            "weighted avg       0.95      0.94      0.94       200\n",
            "\n"
          ]
        },
        {
          "output_type": "stream",
          "name": "stderr",
          "text": [
            "<ipython-input-118-ddf5c8517168>:12: FutureWarning: Calling a ufunc on non-aligned DataFrames (or DataFrame/Series combination). Currently, the indices are ignored and the result takes the index/columns of the first DataFrame. In the future , the DataFrames/Series will be aligned before applying the ufunc.\n",
            "Convert one of the arguments to a NumPy array (eg 'ufunc(df1, np.asarray(df2)') to keep the current behaviour, or align manually (eg 'df1, df2 = df1.align(df2)') before passing to the ufunc to obtain the future behaviour and silence this warning.\n",
            "  return (np.matmul(np.transpose(z), z)) / len(data)\n"
          ]
        },
        {
          "output_type": "stream",
          "name": "stdout",
          "text": [
            "r =  51\n",
            "              precision    recall  f1-score   support\n",
            "\n",
            "           1       1.00      1.00      1.00         5\n",
            "           2       1.00      1.00      1.00         5\n",
            "           3       1.00      0.80      0.89         5\n",
            "           4       0.83      1.00      0.91         5\n",
            "           5       0.80      0.80      0.80         5\n",
            "           6       1.00      1.00      1.00         5\n",
            "           7       1.00      1.00      1.00         5\n",
            "           8       1.00      1.00      1.00         5\n",
            "           9       0.83      1.00      0.91         5\n",
            "          10       1.00      0.80      0.89         5\n",
            "          11       1.00      1.00      1.00         5\n",
            "          12       1.00      1.00      1.00         5\n",
            "          13       1.00      1.00      1.00         5\n",
            "          14       1.00      1.00      1.00         5\n",
            "          15       1.00      1.00      1.00         5\n",
            "          16       0.83      1.00      0.91         5\n",
            "          17       1.00      1.00      1.00         5\n",
            "          18       1.00      1.00      1.00         5\n",
            "          19       1.00      0.80      0.89         5\n",
            "          20       1.00      1.00      1.00         5\n",
            "          21       0.83      1.00      0.91         5\n",
            "          22       1.00      1.00      1.00         5\n",
            "          23       1.00      0.80      0.89         5\n",
            "          24       1.00      1.00      1.00         5\n",
            "          25       1.00      1.00      1.00         5\n",
            "          26       0.71      1.00      0.83         5\n",
            "          27       1.00      1.00      1.00         5\n",
            "          28       1.00      0.20      0.33         5\n",
            "          29       1.00      1.00      1.00         5\n",
            "          30       1.00      1.00      1.00         5\n",
            "          31       1.00      1.00      1.00         5\n",
            "          32       1.00      1.00      1.00         5\n",
            "          33       1.00      0.80      0.89         5\n",
            "          34       1.00      1.00      1.00         5\n",
            "          35       1.00      0.80      0.89         5\n",
            "          36       1.00      1.00      1.00         5\n",
            "          37       0.71      1.00      0.83         5\n",
            "          38       0.67      0.80      0.73         5\n",
            "          39       1.00      1.00      1.00         5\n",
            "          40       0.83      1.00      0.91         5\n",
            "\n",
            "    accuracy                           0.94       200\n",
            "   macro avg       0.95      0.94      0.94       200\n",
            "weighted avg       0.95      0.94      0.94       200\n",
            "\n"
          ]
        },
        {
          "output_type": "stream",
          "name": "stderr",
          "text": [
            "<ipython-input-118-ddf5c8517168>:12: FutureWarning: Calling a ufunc on non-aligned DataFrames (or DataFrame/Series combination). Currently, the indices are ignored and the result takes the index/columns of the first DataFrame. In the future , the DataFrames/Series will be aligned before applying the ufunc.\n",
            "Convert one of the arguments to a NumPy array (eg 'ufunc(df1, np.asarray(df2)') to keep the current behaviour, or align manually (eg 'df1, df2 = df1.align(df2)') before passing to the ufunc to obtain the future behaviour and silence this warning.\n",
            "  return (np.matmul(np.transpose(z), z)) / len(data)\n"
          ]
        },
        {
          "output_type": "stream",
          "name": "stdout",
          "text": [
            "r =  74\n",
            "              precision    recall  f1-score   support\n",
            "\n",
            "           1       1.00      1.00      1.00         5\n",
            "           2       1.00      1.00      1.00         5\n",
            "           3       1.00      0.80      0.89         5\n",
            "           4       0.83      1.00      0.91         5\n",
            "           5       0.80      0.80      0.80         5\n",
            "           6       1.00      1.00      1.00         5\n",
            "           7       1.00      1.00      1.00         5\n",
            "           8       1.00      1.00      1.00         5\n",
            "           9       0.83      1.00      0.91         5\n",
            "          10       1.00      0.80      0.89         5\n",
            "          11       1.00      1.00      1.00         5\n",
            "          12       1.00      1.00      1.00         5\n",
            "          13       1.00      1.00      1.00         5\n",
            "          14       1.00      1.00      1.00         5\n",
            "          15       1.00      1.00      1.00         5\n",
            "          16       0.83      1.00      0.91         5\n",
            "          17       1.00      1.00      1.00         5\n",
            "          18       1.00      1.00      1.00         5\n",
            "          19       1.00      0.80      0.89         5\n",
            "          20       1.00      1.00      1.00         5\n",
            "          21       0.83      1.00      0.91         5\n",
            "          22       1.00      1.00      1.00         5\n",
            "          23       1.00      0.80      0.89         5\n",
            "          24       1.00      1.00      1.00         5\n",
            "          25       1.00      1.00      1.00         5\n",
            "          26       0.62      1.00      0.77         5\n",
            "          27       1.00      1.00      1.00         5\n",
            "          28       1.00      0.20      0.33         5\n",
            "          29       1.00      1.00      1.00         5\n",
            "          30       1.00      1.00      1.00         5\n",
            "          31       1.00      1.00      1.00         5\n",
            "          32       1.00      1.00      1.00         5\n",
            "          33       1.00      0.80      0.89         5\n",
            "          34       1.00      1.00      1.00         5\n",
            "          35       1.00      0.80      0.89         5\n",
            "          36       1.00      1.00      1.00         5\n",
            "          37       0.83      1.00      0.91         5\n",
            "          38       0.67      0.80      0.73         5\n",
            "          39       1.00      1.00      1.00         5\n",
            "          40       0.83      1.00      0.91         5\n",
            "\n",
            "    accuracy                           0.94       200\n",
            "   macro avg       0.95      0.94      0.94       200\n",
            "weighted avg       0.95      0.94      0.94       200\n",
            "\n"
          ]
        },
        {
          "output_type": "stream",
          "name": "stderr",
          "text": [
            "<ipython-input-118-ddf5c8517168>:12: FutureWarning: Calling a ufunc on non-aligned DataFrames (or DataFrame/Series combination). Currently, the indices are ignored and the result takes the index/columns of the first DataFrame. In the future , the DataFrames/Series will be aligned before applying the ufunc.\n",
            "Convert one of the arguments to a NumPy array (eg 'ufunc(df1, np.asarray(df2)') to keep the current behaviour, or align manually (eg 'df1, df2 = df1.align(df2)') before passing to the ufunc to obtain the future behaviour and silence this warning.\n",
            "  return (np.matmul(np.transpose(z), z)) / len(data)\n"
          ]
        },
        {
          "output_type": "error",
          "ename": "KeyboardInterrupt",
          "evalue": "ignored",
          "traceback": [
            "\u001b[0;31m---------------------------------------------------------------------------\u001b[0m",
            "\u001b[0;31mKeyboardInterrupt\u001b[0m                         Traceback (most recent call last)",
            "\u001b[0;32m<ipython-input-120-f71357df581e>\u001b[0m in \u001b[0;36m<module>\u001b[0;34m\u001b[0m\n\u001b[1;32m      2\u001b[0m \u001b[0malphas\u001b[0m\u001b[0;34m=\u001b[0m\u001b[0;34m[\u001b[0m\u001b[0;36m0.8\u001b[0m\u001b[0;34m,\u001b[0m\u001b[0;36m0.85\u001b[0m\u001b[0;34m,\u001b[0m\u001b[0;36m0.9\u001b[0m\u001b[0;34m,\u001b[0m\u001b[0;36m0.95\u001b[0m\u001b[0;34m]\u001b[0m\u001b[0;34m\u001b[0m\u001b[0;34m\u001b[0m\u001b[0m\n\u001b[1;32m      3\u001b[0m \u001b[0;32mfor\u001b[0m \u001b[0mi\u001b[0m \u001b[0;32min\u001b[0m \u001b[0mrange\u001b[0m\u001b[0;34m(\u001b[0m\u001b[0mlen\u001b[0m\u001b[0;34m(\u001b[0m\u001b[0malphas\u001b[0m\u001b[0;34m)\u001b[0m\u001b[0;34m)\u001b[0m\u001b[0;34m:\u001b[0m\u001b[0;34m\u001b[0m\u001b[0;34m\u001b[0m\u001b[0m\n\u001b[0;32m----> 4\u001b[0;31m   \u001b[0mprojected_training\u001b[0m\u001b[0;34m,\u001b[0m \u001b[0mprojected_testing\u001b[0m \u001b[0;34m=\u001b[0m \u001b[0mPCA\u001b[0m\u001b[0;34m(\u001b[0m\u001b[0malphas\u001b[0m\u001b[0;34m[\u001b[0m\u001b[0mi\u001b[0m\u001b[0;34m]\u001b[0m\u001b[0;34m,\u001b[0m\u001b[0mX_train\u001b[0m\u001b[0;34m,\u001b[0m\u001b[0mX_test\u001b[0m\u001b[0;34m)\u001b[0m\u001b[0;34m\u001b[0m\u001b[0;34m\u001b[0m\u001b[0m\n\u001b[0m\u001b[1;32m      5\u001b[0m   \u001b[0mmodel\u001b[0m\u001b[0;34m.\u001b[0m\u001b[0mfit\u001b[0m\u001b[0;34m(\u001b[0m\u001b[0mprojected_training\u001b[0m\u001b[0;34m,\u001b[0m \u001b[0my_train\u001b[0m\u001b[0;34m)\u001b[0m\u001b[0;34m\u001b[0m\u001b[0;34m\u001b[0m\u001b[0m\n\u001b[1;32m      6\u001b[0m   \u001b[0mtest_pred\u001b[0m \u001b[0;34m=\u001b[0m \u001b[0mmodel\u001b[0m\u001b[0;34m.\u001b[0m\u001b[0mpredict\u001b[0m\u001b[0;34m(\u001b[0m\u001b[0mprojected_testing\u001b[0m\u001b[0;34m)\u001b[0m\u001b[0;34m\u001b[0m\u001b[0;34m\u001b[0m\u001b[0m\n",
            "\u001b[0;32m<ipython-input-118-ddf5c8517168>\u001b[0m in \u001b[0;36mPCA\u001b[0;34m(alpha, X_train, X_test)\u001b[0m\n\u001b[1;32m     40\u001b[0m \u001b[0;34m\u001b[0m\u001b[0m\n\u001b[1;32m     41\u001b[0m \u001b[0;32mdef\u001b[0m \u001b[0mPCA\u001b[0m\u001b[0;34m(\u001b[0m\u001b[0malpha\u001b[0m\u001b[0;34m,\u001b[0m\u001b[0mX_train\u001b[0m\u001b[0;34m,\u001b[0m\u001b[0mX_test\u001b[0m\u001b[0;34m)\u001b[0m\u001b[0;34m:\u001b[0m\u001b[0;34m\u001b[0m\u001b[0;34m\u001b[0m\u001b[0m\n\u001b[0;32m---> 42\u001b[0;31m     \u001b[0meig_values\u001b[0m\u001b[0;34m,\u001b[0m \u001b[0meig_vectors\u001b[0m \u001b[0;34m=\u001b[0m \u001b[0mcalculate_eigen_vectors\u001b[0m\u001b[0;34m(\u001b[0m\u001b[0mX_train\u001b[0m\u001b[0;34m)\u001b[0m\u001b[0;34m\u001b[0m\u001b[0;34m\u001b[0m\u001b[0m\n\u001b[0m\u001b[1;32m     43\u001b[0m     \u001b[0mr\u001b[0m \u001b[0;34m=\u001b[0m \u001b[0mdimensionality\u001b[0m\u001b[0;34m(\u001b[0m\u001b[0malpha\u001b[0m\u001b[0;34m,\u001b[0m \u001b[0meig_values\u001b[0m\u001b[0;34m)\u001b[0m\u001b[0;34m\u001b[0m\u001b[0;34m\u001b[0m\u001b[0m\n\u001b[1;32m     44\u001b[0m     \u001b[0mprint\u001b[0m\u001b[0;34m(\u001b[0m\u001b[0;34m\"r = \"\u001b[0m\u001b[0;34m,\u001b[0m \u001b[0mr\u001b[0m\u001b[0;34m)\u001b[0m\u001b[0;34m\u001b[0m\u001b[0;34m\u001b[0m\u001b[0m\n",
            "\u001b[0;32m<ipython-input-118-ddf5c8517168>\u001b[0m in \u001b[0;36mcalculate_eigen_vectors\u001b[0;34m(data)\u001b[0m\n\u001b[1;32m     15\u001b[0m \u001b[0;32mdef\u001b[0m \u001b[0mcalculate_eigen_vectors\u001b[0m\u001b[0;34m(\u001b[0m\u001b[0mdata\u001b[0m\u001b[0;34m)\u001b[0m\u001b[0;34m:\u001b[0m\u001b[0;34m\u001b[0m\u001b[0;34m\u001b[0m\u001b[0m\n\u001b[1;32m     16\u001b[0m     \u001b[0mcov\u001b[0m \u001b[0;34m=\u001b[0m \u001b[0mcalculate_covariance_matrix\u001b[0m\u001b[0;34m(\u001b[0m\u001b[0mdata\u001b[0m\u001b[0;34m)\u001b[0m\u001b[0;34m\u001b[0m\u001b[0;34m\u001b[0m\u001b[0m\n\u001b[0;32m---> 17\u001b[0;31m     \u001b[0meig_values\u001b[0m\u001b[0;34m,\u001b[0m \u001b[0meig_vectors\u001b[0m \u001b[0;34m=\u001b[0m \u001b[0mnp\u001b[0m\u001b[0;34m.\u001b[0m\u001b[0mlinalg\u001b[0m\u001b[0;34m.\u001b[0m\u001b[0meigh\u001b[0m\u001b[0;34m(\u001b[0m\u001b[0mcov\u001b[0m\u001b[0;34m)\u001b[0m\u001b[0;34m\u001b[0m\u001b[0;34m\u001b[0m\u001b[0m\n\u001b[0m\u001b[1;32m     18\u001b[0m     \u001b[0midx\u001b[0m \u001b[0;34m=\u001b[0m \u001b[0meig_values\u001b[0m\u001b[0;34m.\u001b[0m\u001b[0margsort\u001b[0m\u001b[0;34m(\u001b[0m\u001b[0;34m)\u001b[0m\u001b[0;34m[\u001b[0m\u001b[0;34m:\u001b[0m\u001b[0;34m:\u001b[0m\u001b[0;34m-\u001b[0m\u001b[0;36m1\u001b[0m\u001b[0;34m]\u001b[0m\u001b[0;34m\u001b[0m\u001b[0;34m\u001b[0m\u001b[0m\n\u001b[1;32m     19\u001b[0m     \u001b[0meig_values\u001b[0m \u001b[0;34m=\u001b[0m \u001b[0meig_values\u001b[0m\u001b[0;34m[\u001b[0m\u001b[0midx\u001b[0m\u001b[0;34m]\u001b[0m\u001b[0;34m\u001b[0m\u001b[0;34m\u001b[0m\u001b[0m\n",
            "\u001b[0;32m/usr/local/lib/python3.8/dist-packages/numpy/core/overrides.py\u001b[0m in \u001b[0;36meigh\u001b[0;34m(*args, **kwargs)\u001b[0m\n",
            "\u001b[0;32m/usr/local/lib/python3.8/dist-packages/numpy/linalg/linalg.py\u001b[0m in \u001b[0;36meigh\u001b[0;34m(a, UPLO)\u001b[0m\n\u001b[1;32m   1456\u001b[0m \u001b[0;34m\u001b[0m\u001b[0m\n\u001b[1;32m   1457\u001b[0m     \u001b[0msignature\u001b[0m \u001b[0;34m=\u001b[0m \u001b[0;34m'D->dD'\u001b[0m \u001b[0;32mif\u001b[0m \u001b[0misComplexType\u001b[0m\u001b[0;34m(\u001b[0m\u001b[0mt\u001b[0m\u001b[0;34m)\u001b[0m \u001b[0;32melse\u001b[0m \u001b[0;34m'd->dd'\u001b[0m\u001b[0;34m\u001b[0m\u001b[0;34m\u001b[0m\u001b[0m\n\u001b[0;32m-> 1458\u001b[0;31m     \u001b[0mw\u001b[0m\u001b[0;34m,\u001b[0m \u001b[0mvt\u001b[0m \u001b[0;34m=\u001b[0m \u001b[0mgufunc\u001b[0m\u001b[0;34m(\u001b[0m\u001b[0ma\u001b[0m\u001b[0;34m,\u001b[0m \u001b[0msignature\u001b[0m\u001b[0;34m=\u001b[0m\u001b[0msignature\u001b[0m\u001b[0;34m,\u001b[0m \u001b[0mextobj\u001b[0m\u001b[0;34m=\u001b[0m\u001b[0mextobj\u001b[0m\u001b[0;34m)\u001b[0m\u001b[0;34m\u001b[0m\u001b[0;34m\u001b[0m\u001b[0m\n\u001b[0m\u001b[1;32m   1459\u001b[0m     \u001b[0mw\u001b[0m \u001b[0;34m=\u001b[0m \u001b[0mw\u001b[0m\u001b[0;34m.\u001b[0m\u001b[0mastype\u001b[0m\u001b[0;34m(\u001b[0m\u001b[0m_realType\u001b[0m\u001b[0;34m(\u001b[0m\u001b[0mresult_t\u001b[0m\u001b[0;34m)\u001b[0m\u001b[0;34m,\u001b[0m \u001b[0mcopy\u001b[0m\u001b[0;34m=\u001b[0m\u001b[0;32mFalse\u001b[0m\u001b[0;34m)\u001b[0m\u001b[0;34m\u001b[0m\u001b[0;34m\u001b[0m\u001b[0m\n\u001b[1;32m   1460\u001b[0m     \u001b[0mvt\u001b[0m \u001b[0;34m=\u001b[0m \u001b[0mvt\u001b[0m\u001b[0;34m.\u001b[0m\u001b[0mastype\u001b[0m\u001b[0;34m(\u001b[0m\u001b[0mresult_t\u001b[0m\u001b[0;34m,\u001b[0m \u001b[0mcopy\u001b[0m\u001b[0;34m=\u001b[0m\u001b[0;32mFalse\u001b[0m\u001b[0;34m)\u001b[0m\u001b[0;34m\u001b[0m\u001b[0;34m\u001b[0m\u001b[0m\n",
            "\u001b[0;31mKeyboardInterrupt\u001b[0m: "
          ]
        }
      ]
    },
    {
      "cell_type": "code",
      "source": [
        "import matplotlib.pyplot as plt\n",
        "plt.figure(figsize=(10,10))\n",
        "plt.plot(alphas, accuracy,'--bo', label='line with marker')\n",
        "plt.xlabel(\"Alpha\")\n",
        "plt.ylabel(\"Accuracy\")\n",
        "plt.show()"
      ],
      "metadata": {
        "colab": {
          "base_uri": "https://localhost:8080/",
          "height": 611
        },
        "id": "evEYUTjSd_nf",
        "outputId": "4e1f9ee9-eac1-4fab-bfaa-589d196096df"
      },
      "execution_count": 13,
      "outputs": [
        {
          "output_type": "display_data",
          "data": {
            "text/plain": [
              "<Figure size 720x720 with 1 Axes>"
            ],
            "image/png": "[encoded data removed]"
          },
          "metadata": {}
        }
      ]
    },
    {
      "cell_type": "markdown",
      "source": [
        "##LDA"
      ],
      "metadata": {
        "id": "08I4tZk9NFBT"
      }
    },
    {
      "cell_type": "code",
      "source": [
        "# Calculating mean vector for every class¶\n",
        "from collections import defaultdict\n",
        "\n",
        "\n",
        "def calculate_classes_mean(data, classes_count):\n",
        "    original_dimensions = 10304\n",
        "    mean_vector = dict()\n",
        "    for label in range(1, classes_count + 1):\n",
        "        # print(data[1])\n",
        "        # label = str(label)\n",
        "        # print(\"HH/HH\",label)\n",
        "        # print(data.loc[1])\n",
        "        person_data = data.iloc[[label]]\n",
        "        # print(\"Hohohoho\")\n",
        "        # print(person_data)\n",
        "        # data[data[''] == label]\n",
        "        mean = np.mean(person_data)\n",
        "        # print(\"-----------\")\n",
        "        # print(mean)\n",
        "        mean_vector[label] = mean\n",
        "    # print(mean_vector)\n",
        "    return mean_vector\n",
        "\n",
        "# Calculating Sb and S matrices\n",
        "def calculate_scatter_matrices(data, original_dimensions, classes_count):\n",
        "    total_mean = np.mean(data)\n",
        "    S = np.zeros((original_dimensions, original_dimensions))\n",
        "    SB = np.zeros((original_dimensions, original_dimensions))\n",
        "    print(\"BEfore\")\n",
        "    # print(data[1])\n",
        "    mean_vector = calculate_classes_mean(data, classes_count)\n",
        "    print(\"After\")\n",
        "    for label in range(1, classes_count + 1):\n",
        "        # label = str(label)\n",
        "        print(\"Calculating label \" + str(label))\n",
        "        person_data = data.iloc[[label]]\n",
        "        mean_vector[label]\n",
        "        Z = np.array(person_data - mean_vector[label])\n",
        "        # calculating S matrix\n",
        "        S += Z.T.dot(Z)\n",
        "        nk = person_data.shape[0]\n",
        "        # Reshaping mean_diff\n",
        "        mean_diff = np.array(mean_vector[label] - total_mean).reshape(original_dimensions, 1)\n",
        "        # calculating Sb matrix\n",
        "        SB += nk * (mean_diff).dot(mean_diff.T)\n",
        "    return S, SB"
      ],
      "metadata": {
        "id": "QexCJCXfM1kQ"
      },
      "execution_count": 25,
      "outputs": []
    },
    {
      "cell_type": "code",
      "source": [
        "def LDA(n_components, data, original_dimensions, classes_count):\n",
        "    # print(\"Hello\")\n",
        "    S, SB = calculate_scatter_matrices(data, original_dimensions, classes_count)\n",
        "    A = np.linalg.inv(S).dot(SB)\n",
        "    eig_values, eig_vectors = np.linalg.eigh(A)\n",
        "    # sort eigenvalues descendingly\n",
        "    idx = eig_values.argsort()[::-1]   \n",
        "    eig_values = eig_values[idx]\n",
        "    eig_vectors = eig_vectors[:,idx]\n",
        "\n",
        "    # store first n eigenvectors\n",
        "    U = eig_vectors[:, 0:n_components].T\n",
        "    return U"
      ],
      "metadata": {
        "id": "ulllkkXQNf4f"
      },
      "execution_count": 26,
      "outputs": []
    },
    {
      "cell_type": "code",
      "source": [
        "train_data = pd.DataFrame(X_train,index=y_train)"
      ],
      "metadata": {
        "id": "1CYcdXR3RNKI"
      },
      "execution_count": 27,
      "outputs": []
    },
    {
      "cell_type": "code",
      "source": [
        "zero_cols = [ col for col, is_zero in ((train_data == 0).sum() == train_data.shape[0]).items() if is_zero ]\n",
        "zero_cols"
      ],
      "metadata": {
        "colab": {
          "base_uri": "https://localhost:8080/"
        },
        "id": "beIYwilGzEmX",
        "outputId": "45449656-b542-462e-869d-2c042f176bd5"
      },
      "execution_count": 28,
      "outputs": [
        {
          "output_type": "execute_result",
          "data": {
            "text/plain": [
              "[]"
            ]
          },
          "metadata": {},
          "execution_count": 28
        }
      ]
    },
    {
      "cell_type": "code",
      "source": [
        "people=40\n",
        "# print(train_data)\n",
        "U = LDA(39, train_data, 10304, people)\n",
        "\n",
        "projected_train_data = np.array(np.matmul(X_train, U.T))\n",
        "projected_test_data = np.array(np.matmul(X_test, U.T))\n",
        "\n"
      ],
      "metadata": {
        "colab": {
          "base_uri": "https://localhost:8080/"
        },
        "id": "vzujEcsYODKT",
        "outputId": "9d14f721-b878-490c-8b6c-1b4102d92045"
      },
      "execution_count": 29,
      "outputs": [
        {
          "output_type": "stream",
          "name": "stdout",
          "text": [
            "BEfore\n",
            "After\n",
            "Calculating label 1\n",
            "Calculating label 2\n",
            "Calculating label 3\n",
            "Calculating label 4\n",
            "Calculating label 5\n",
            "Calculating label 6\n",
            "Calculating label 7\n",
            "Calculating label 8\n",
            "Calculating label 9\n",
            "Calculating label 10\n",
            "Calculating label 11\n",
            "Calculating label 12\n",
            "Calculating label 13\n",
            "Calculating label 14\n",
            "Calculating label 15\n",
            "Calculating label 16\n",
            "Calculating label 17\n",
            "Calculating label 18\n",
            "Calculating label 19\n",
            "Calculating label 20\n",
            "Calculating label 21\n",
            "Calculating label 22\n",
            "Calculating label 23\n",
            "Calculating label 24\n",
            "Calculating label 25\n",
            "Calculating label 26\n",
            "Calculating label 27\n",
            "Calculating label 28\n",
            "Calculating label 29\n",
            "Calculating label 30\n",
            "Calculating label 31\n",
            "Calculating label 32\n",
            "Calculating label 33\n",
            "Calculating label 34\n",
            "Calculating label 35\n",
            "Calculating label 36\n",
            "Calculating label 37\n",
            "Calculating label 38\n",
            "Calculating label 39\n",
            "Calculating label 40\n"
          ]
        }
      ]
    },
    {
      "cell_type": "code",
      "source": [
        "m# print(X_train.shape)\n",
        "# print(X_test.shape)\n",
        "# print(X_test.T.shape)\n",
        "# tst=X_test.T\n",
        "# print(tst[5])\n",
        "test_data = pd.DataFrame(X_test,index=y_test)\n",
        "test_data.shape\n",
        "X_test=df_test.drop(columns='target')\n",
        "X_train=df_train.drop(columns='target')\n",
        "y_train.iloc[[0]]\n"
      ],
      "metadata": {
        "colab": {
          "base_uri": "https://localhost:8080/"
        },
        "id": "BlhPl2MY7QlC",
        "outputId": "0dbe1092-7085-4fd6-db09-c75deb712f73"
      },
      "execution_count": 17,
      "outputs": [
        {
          "output_type": "execute_result",
          "data": {
            "text/plain": [
              "1    1\n",
              "Name: target, dtype: int64"
            ]
          },
          "metadata": {},
          "execution_count": 17
        }
      ]
    },
    {
      "cell_type": "code",
      "source": [
        "X_test.iloc[1]"
      ],
      "metadata": {
        "colab": {
          "base_uri": "https://localhost:8080/"
        },
        "id": "EDlP0XVIEmVQ",
        "outputId": "07ad5c62-f5e2-4035-d685-d4d1f4ece6b0"
      },
      "execution_count": 18,
      "outputs": [
        {
          "output_type": "execute_result",
          "data": {
            "text/plain": [
              "0        39.0\n",
              "1        44.0\n",
              "2        53.0\n",
              "3        37.0\n",
              "4        61.0\n",
              "         ... \n",
              "10299    32.0\n",
              "10300    31.0\n",
              "10301    29.0\n",
              "10302    26.0\n",
              "10303    29.0\n",
              "Name: 2, Length: 10304, dtype: float64"
            ]
          },
          "metadata": {},
          "execution_count": 18
        }
      ]
    },
    {
      "cell_type": "code",
      "source": [
        "simple_classifier = KNeighborsClassifier(n_neighbors=1)\n",
        "simple_classifier.fit(X_train, y_train)\n",
        "test_samples = len(X_test)\n",
        "acc = 0\n",
        "y_predict = []\n",
        "for i in range(test_samples):\n",
        "    result = simple_classifier.predict(X_test.iloc[[i]])\n",
        "    # print(result)\n",
        "    # print(y_test)\n",
        "    y_predict.append(result)\n",
        "    if result == y_test.iloc[i]:\n",
        "        acc += 1\n",
        "# y_test.iloc[[1]]    \n",
        "acc /= test_samples\n",
        "print(f'Acc at K = {1}: {acc*100} %')"
      ],
      "metadata": {
        "colab": {
          "base_uri": "https://localhost:8080/"
        },
        "id": "WGzL9gsC6V39",
        "outputId": "9ceeba57-bda2-43d5-8b20-ba7abb40c40d"
      },
      "execution_count": 19,
      "outputs": [
        {
          "output_type": "stream",
          "name": "stdout",
          "text": [
            "Acc at K = 1: 94.0 %\n"
          ]
        }
      ]
    },
    {
      "cell_type": "code",
      "source": [
        "# y_test = np.nan_to_num(y_test)\n",
        "# y_train = np.nan_to_num(y_train)\n",
        "# projected_train_data = np.nan_to_num(projected_train_data)\n",
        "# projected_test_data = np.nan_to_num(projected_test_data)\n",
        "\n"
      ],
      "metadata": {
        "id": "ba4jGtdpIam3"
      },
      "execution_count": 22,
      "outputs": []
    },
    {
      "cell_type": "code",
      "source": [
        "def classify(X_train, y_train, X_test, y_test, n_neighbors, confusion_matrix_needed=False):\n",
        "    simple_classifier = KNeighborsClassifier(n_neighbors=n_neighbors)\n",
        "    simple_classifier.fit(X_train, y_train)\n",
        "    test_samples = len(X_test)\n",
        "    acc = 0\n",
        "    y_predict = []\n",
        "    for i in range(test_samples):\n",
        "        result = simple_classifier.predict(X_test.iloc[[i]])\n",
        "        y_predict.append(result)\n",
        "        if result == y_test.iloc[i]:\n",
        "            acc += 1\n",
        "        \n",
        "    acc /= test_samples\n",
        "    print(f'Acc at K = {n_neighbors}: {acc*100} %')"
      ],
      "metadata": {
        "id": "zwjjl0oZ4t4o"
      },
      "execution_count": 20,
      "outputs": []
    },
    {
      "cell_type": "code",
      "source": [
        "k_values = [1, 3, 5, 7]\n",
        "acc = []\n",
        "for k in k_values:\n",
        "    acc.append(classify(projected_train_data, y_train, projected_test_data, y_test, k))\n",
        "plt.plot(k_values, acc)\n",
        "plt.xlabel('Number of neighbors')\n",
        "plt.ylabel('Acc')\n",
        "plt.title('K tunning graph')\n",
        "plt.show()"
      ],
      "metadata": {
        "colab": {
          "base_uri": "https://localhost:8080/",
          "height": 351
        },
        "id": "2sIcU6Ik5ioh",
        "outputId": "118cb2e0-47c1-4bcc-87ef-6696ba9753b9"
      },
      "execution_count": 23,
      "outputs": [
        {
          "output_type": "error",
          "ename": "AttributeError",
          "evalue": "ignored",
          "traceback": [
            "\u001b[0;31m---------------------------------------------------------------------------\u001b[0m",
            "\u001b[0;31mAttributeError\u001b[0m                            Traceback (most recent call last)",
            "\u001b[0;32m<ipython-input-23-895c618ed4b4>\u001b[0m in \u001b[0;36m<module>\u001b[0;34m\u001b[0m\n\u001b[1;32m      2\u001b[0m \u001b[0macc\u001b[0m \u001b[0;34m=\u001b[0m \u001b[0;34m[\u001b[0m\u001b[0;34m]\u001b[0m\u001b[0;34m\u001b[0m\u001b[0;34m\u001b[0m\u001b[0m\n\u001b[1;32m      3\u001b[0m \u001b[0;32mfor\u001b[0m \u001b[0mk\u001b[0m \u001b[0;32min\u001b[0m \u001b[0mk_values\u001b[0m\u001b[0;34m:\u001b[0m\u001b[0;34m\u001b[0m\u001b[0;34m\u001b[0m\u001b[0m\n\u001b[0;32m----> 4\u001b[0;31m     \u001b[0macc\u001b[0m\u001b[0;34m.\u001b[0m\u001b[0mappend\u001b[0m\u001b[0;34m(\u001b[0m\u001b[0mclassify\u001b[0m\u001b[0;34m(\u001b[0m\u001b[0mprojected_train_data\u001b[0m\u001b[0;34m,\u001b[0m \u001b[0my_train\u001b[0m\u001b[0;34m,\u001b[0m \u001b[0mprojected_test_data\u001b[0m\u001b[0;34m,\u001b[0m \u001b[0my_test\u001b[0m\u001b[0;34m,\u001b[0m \u001b[0mk\u001b[0m\u001b[0;34m)\u001b[0m\u001b[0;34m)\u001b[0m\u001b[0;34m\u001b[0m\u001b[0;34m\u001b[0m\u001b[0m\n\u001b[0m\u001b[1;32m      5\u001b[0m \u001b[0mplt\u001b[0m\u001b[0;34m.\u001b[0m\u001b[0mplot\u001b[0m\u001b[0;34m(\u001b[0m\u001b[0mk_values\u001b[0m\u001b[0;34m,\u001b[0m \u001b[0macc\u001b[0m\u001b[0;34m)\u001b[0m\u001b[0;34m\u001b[0m\u001b[0;34m\u001b[0m\u001b[0m\n\u001b[1;32m      6\u001b[0m \u001b[0mplt\u001b[0m\u001b[0;34m.\u001b[0m\u001b[0mxlabel\u001b[0m\u001b[0;34m(\u001b[0m\u001b[0;34m'Number of neighbors'\u001b[0m\u001b[0;34m)\u001b[0m\u001b[0;34m\u001b[0m\u001b[0;34m\u001b[0m\u001b[0m\n",
            "\u001b[0;32m<ipython-input-20-201d867acb15>\u001b[0m in \u001b[0;36mclassify\u001b[0;34m(X_train, y_train, X_test, y_test, n_neighbors, confusion_matrix_needed)\u001b[0m\n\u001b[1;32m      6\u001b[0m     \u001b[0my_predict\u001b[0m \u001b[0;34m=\u001b[0m \u001b[0;34m[\u001b[0m\u001b[0;34m]\u001b[0m\u001b[0;34m\u001b[0m\u001b[0;34m\u001b[0m\u001b[0m\n\u001b[1;32m      7\u001b[0m     \u001b[0;32mfor\u001b[0m \u001b[0mi\u001b[0m \u001b[0;32min\u001b[0m \u001b[0mrange\u001b[0m\u001b[0;34m(\u001b[0m\u001b[0mtest_samples\u001b[0m\u001b[0;34m)\u001b[0m\u001b[0;34m:\u001b[0m\u001b[0;34m\u001b[0m\u001b[0;34m\u001b[0m\u001b[0m\n\u001b[0;32m----> 8\u001b[0;31m         \u001b[0mresult\u001b[0m \u001b[0;34m=\u001b[0m \u001b[0msimple_classifier\u001b[0m\u001b[0;34m.\u001b[0m\u001b[0mpredict\u001b[0m\u001b[0;34m(\u001b[0m\u001b[0mX_test\u001b[0m\u001b[0;34m.\u001b[0m\u001b[0miloc\u001b[0m\u001b[0;34m[\u001b[0m\u001b[0;34m[\u001b[0m\u001b[0mi\u001b[0m\u001b[0;34m]\u001b[0m\u001b[0;34m]\u001b[0m\u001b[0;34m)\u001b[0m\u001b[0;34m\u001b[0m\u001b[0;34m\u001b[0m\u001b[0m\n\u001b[0m\u001b[1;32m      9\u001b[0m         \u001b[0my_predict\u001b[0m\u001b[0;34m.\u001b[0m\u001b[0mappend\u001b[0m\u001b[0;34m(\u001b[0m\u001b[0mresult\u001b[0m\u001b[0;34m)\u001b[0m\u001b[0;34m\u001b[0m\u001b[0;34m\u001b[0m\u001b[0m\n\u001b[1;32m     10\u001b[0m         \u001b[0;32mif\u001b[0m \u001b[0mresult\u001b[0m \u001b[0;34m==\u001b[0m \u001b[0my_test\u001b[0m\u001b[0;34m.\u001b[0m\u001b[0miloc\u001b[0m\u001b[0;34m[\u001b[0m\u001b[0mi\u001b[0m\u001b[0;34m]\u001b[0m\u001b[0;34m:\u001b[0m\u001b[0;34m\u001b[0m\u001b[0;34m\u001b[0m\u001b[0m\n",
            "\u001b[0;31mAttributeError\u001b[0m: 'numpy.ndarray' object has no attribute 'iloc'"
          ]
        }
      ]
    },
    {
      "cell_type": "markdown",
      "source": [
        "## Classifier tuning PCA"
      ],
      "metadata": {
        "id": "ysaswZWnxHfb"
      }
    },
    {
      "cell_type": "code",
      "source": [
        "Ks=[3,5,7]"
      ],
      "metadata": {
        "id": "LTw6x_mCxQB4"
      },
      "execution_count": null,
      "outputs": []
    },
    {
      "cell_type": "code",
      "source": [
        "for j in range(len(Ks)):\n",
        "  kAccuracy=[]\n",
        "  model = KNeighborsClassifier(n_neighbors=Ks[j])\n",
        "  alphas=[0.8,0.85,0.9,0.95]\n",
        "  for i in range(len(alphas)):\n",
        "    projected_training, projected_testing = PCA(alphas[i],X_train,X_test)\n",
        "    model.fit(projected_training, y_train)\n",
        "    test_pred = model.predict(projected_testing)\n",
        "    print(classification_report(y_test, test_pred))\n",
        "    kAccuracy.append(accuracy_score(y_test, test_pred))\n",
        "  plt.figure(figsize=(10,10))\n",
        "  plt.plot(alphas, kAccuracy,'--bo', label='line with marker')\n",
        "  plt.title(\"Accuracy using K =\"+str(j))\n",
        "  plt.xlabel(\"Alpha\")\n",
        "  plt.ylabel(\"Accuracy\")\n",
        "  plt.show()"
      ],
      "metadata": {
        "colab": {
          "base_uri": "https://localhost:8080/"
        },
        "id": "Yc5_ieIqs6_r",
        "outputId": "ebc71a0a-e008-44c8-a90e-c4828831f230"
      },
      "execution_count": null,
      "outputs": [
        {
          "output_type": "stream",
          "name": "stderr",
          "text": [
            "<ipython-input-9-ddf5c8517168>:12: FutureWarning: Calling a ufunc on non-aligned DataFrames (or DataFrame/Series combination). Currently, the indices are ignored and the result takes the index/columns of the first DataFrame. In the future , the DataFrames/Series will be aligned before applying the ufunc.\n",
            "Convert one of the arguments to a NumPy array (eg 'ufunc(df1, np.asarray(df2)') to keep the current behaviour, or align manually (eg 'df1, df2 = df1.align(df2)') before passing to the ufunc to obtain the future behaviour and silence this warning.\n",
            "  return (np.matmul(np.transpose(z), z)) / len(data)\n"
          ]
        }
      ]
    },
    {
      "cell_type": "code",
      "source": [],
      "metadata": {
        "id": "kCFvs3tsx33j"
      },
      "execution_count": null,
      "outputs": []
    }
  ]
}